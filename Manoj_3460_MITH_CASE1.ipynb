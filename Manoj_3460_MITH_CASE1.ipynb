{
 "cells": [
  {
   "cell_type": "code",
   "execution_count": 1,
   "metadata": {
    "colab": {
     "base_uri": "https://localhost:8080/",
     "height": 122
    },
    "colab_type": "code",
    "id": "TfkoIuW4qeAR",
    "outputId": "970e9fd4-957b-42fd-ddff-5f20a4f082b6"
   },
   "outputs": [
    {
     "name": "stdout",
     "output_type": "stream",
     "text": [
      "Go to this URL in a browser: https://accounts.google.com/o/oauth2/auth?client_id=947318989803-6bn6qk8qdgf4n4g3pfee6491hc0brc4i.apps.googleusercontent.com&redirect_uri=urn%3aietf%3awg%3aoauth%3a2.0%3aoob&response_type=code&scope=email%20https%3a%2f%2fwww.googleapis.com%2fauth%2fdocs.test%20https%3a%2f%2fwww.googleapis.com%2fauth%2fdrive%20https%3a%2f%2fwww.googleapis.com%2fauth%2fdrive.photos.readonly%20https%3a%2f%2fwww.googleapis.com%2fauth%2fpeopleapi.readonly\n",
      "\n",
      "Enter your authorization code:\n",
      "··········\n",
      "Mounted at /content/drive/\n"
     ]
    }
   ],
   "source": [
    "from google.colab import drive\n",
    "drive.mount('/content/drive/')"
   ]
  },
  {
   "cell_type": "markdown",
   "metadata": {
    "colab_type": "text",
    "id": "RVMxZ3Jeb64t"
   },
   "source": [
    "Importing Libraries"
   ]
  },
  {
   "cell_type": "code",
   "execution_count": 0,
   "metadata": {
    "colab": {},
    "colab_type": "code",
    "id": "pTNhSSI4qeAb"
   },
   "outputs": [],
   "source": [
    "import pandas as pd\n",
    "import numpy as np\n",
    "\n",
    "from sklearn import preprocessing\n",
    "from sklearn.impute import SimpleImputer\n",
    "from sklearn.compose import ColumnTransformer\n",
    "\n",
    "from sklearn.preprocessing import StandardScaler\n",
    "from sklearn.preprocessing import OneHotEncoder\n",
    "from sklearn.model_selection import train_test_split\n",
    "from sklearn.pipeline import Pipeline\n",
    "from sklearn.model_selection import GridSearchCV, RandomizedSearchCV\n",
    "\n",
    "from sklearn.svm import SVC\n",
    "from sklearn.linear_model import LogisticRegression\n",
    "from sklearn.metrics import confusion_matrix\n",
    "\n",
    "import matplotlib.pyplot as plt\n",
    "import seaborn as sns\n",
    "from sklearn.metrics import accuracy_score, recall_score, precision_score\n",
    "\n",
    "import warnings\n",
    "warnings.filterwarnings('ignore')"
   ]
  },
  {
   "cell_type": "markdown",
   "metadata": {
    "colab_type": "text",
    "id": "yQfvB_kXcAOx"
   },
   "source": [
    "Reading File"
   ]
  },
  {
   "cell_type": "code",
   "execution_count": 0,
   "metadata": {
    "colab": {},
    "colab_type": "code",
    "id": "NZLPrydlq9Ct"
   },
   "outputs": [],
   "source": [
    "train_data = pd.read_excel('/content/drive/My Drive/MITH Exam/train_data-1578037482430.xlsx', header=0, na_values='unknown', sep=',')\n",
    "test_data = pd.read_excel('/content/drive/My Drive/MITH Exam/test_data-1578037501169.xlsx',header=0, na_values='unknown', sep=',')"
   ]
  },
  {
   "cell_type": "code",
   "execution_count": 4,
   "metadata": {
    "colab": {
     "base_uri": "https://localhost:8080/",
     "height": 258
    },
    "colab_type": "code",
    "id": "PEfV0jFqsema",
    "outputId": "008a2368-1a70-4c99-85a7-2e8797a3d74f"
   },
   "outputs": [
    {
     "name": "stdout",
     "output_type": "stream",
     "text": [
      "(7360, 21)\n",
      "(1840, 20)\n"
     ]
    },
    {
     "data": {
      "text/html": [
       "<div>\n",
       "<style scoped>\n",
       "    .dataframe tbody tr th:only-of-type {\n",
       "        vertical-align: middle;\n",
       "    }\n",
       "\n",
       "    .dataframe tbody tr th {\n",
       "        vertical-align: top;\n",
       "    }\n",
       "\n",
       "    .dataframe thead th {\n",
       "        text-align: right;\n",
       "    }\n",
       "</style>\n",
       "<table border=\"1\" class=\"dataframe\">\n",
       "  <thead>\n",
       "    <tr style=\"text-align: right;\">\n",
       "      <th></th>\n",
       "      <th>CustomerID</th>\n",
       "      <th>CustomerName</th>\n",
       "      <th>yearofBirth</th>\n",
       "      <th>monthofBirth</th>\n",
       "      <th>dayofBirth</th>\n",
       "      <th>yearofEntry</th>\n",
       "      <th>monthofEntry</th>\n",
       "      <th>dayofEntry</th>\n",
       "      <th>Gender</th>\n",
       "      <th>Location</th>\n",
       "      <th>Education</th>\n",
       "      <th>MaritalStatus</th>\n",
       "      <th>Occupation</th>\n",
       "      <th>Ownhouse</th>\n",
       "      <th>CreditScore</th>\n",
       "      <th>AccountBalance</th>\n",
       "      <th>NumberOfProducts</th>\n",
       "      <th>IsCreditCardCustomer</th>\n",
       "      <th>ActiveMember</th>\n",
       "      <th>Salary</th>\n",
       "      <th>Churn</th>\n",
       "    </tr>\n",
       "  </thead>\n",
       "  <tbody>\n",
       "    <tr>\n",
       "      <th>0</th>\n",
       "      <td>C5814651</td>\n",
       "      <td>Name_5814651</td>\n",
       "      <td>1980</td>\n",
       "      <td>5</td>\n",
       "      <td>12</td>\n",
       "      <td>2014</td>\n",
       "      <td>11</td>\n",
       "      <td>28</td>\n",
       "      <td>Male</td>\n",
       "      <td>Location11</td>\n",
       "      <td>primary</td>\n",
       "      <td>divorced</td>\n",
       "      <td>management</td>\n",
       "      <td>no</td>\n",
       "      <td>716</td>\n",
       "      <td>0.00</td>\n",
       "      <td>2</td>\n",
       "      <td>1</td>\n",
       "      <td>0</td>\n",
       "      <td>189678.70</td>\n",
       "      <td>0</td>\n",
       "    </tr>\n",
       "    <tr>\n",
       "      <th>1</th>\n",
       "      <td>C6465787</td>\n",
       "      <td>Name_6465787</td>\n",
       "      <td>1986</td>\n",
       "      <td>12</td>\n",
       "      <td>28</td>\n",
       "      <td>2011</td>\n",
       "      <td>8</td>\n",
       "      <td>17</td>\n",
       "      <td>Female</td>\n",
       "      <td>Location13</td>\n",
       "      <td>primary</td>\n",
       "      <td>divorced</td>\n",
       "      <td>admin.</td>\n",
       "      <td>no</td>\n",
       "      <td>568</td>\n",
       "      <td>169399.60</td>\n",
       "      <td>1</td>\n",
       "      <td>1</td>\n",
       "      <td>0</td>\n",
       "      <td>61936.22</td>\n",
       "      <td>0</td>\n",
       "    </tr>\n",
       "    <tr>\n",
       "      <th>2</th>\n",
       "      <td>C3824349</td>\n",
       "      <td>Name_3824349</td>\n",
       "      <td>1999</td>\n",
       "      <td>11</td>\n",
       "      <td>23</td>\n",
       "      <td>2013</td>\n",
       "      <td>12</td>\n",
       "      <td>9</td>\n",
       "      <td>Male</td>\n",
       "      <td>Location13</td>\n",
       "      <td>secondary</td>\n",
       "      <td>married</td>\n",
       "      <td>NaN</td>\n",
       "      <td>NaN</td>\n",
       "      <td>739</td>\n",
       "      <td>89750.21</td>\n",
       "      <td>1</td>\n",
       "      <td>1</td>\n",
       "      <td>0</td>\n",
       "      <td>193008.52</td>\n",
       "      <td>0</td>\n",
       "    </tr>\n",
       "    <tr>\n",
       "      <th>3</th>\n",
       "      <td>C8431888</td>\n",
       "      <td>Name_8431888</td>\n",
       "      <td>1969</td>\n",
       "      <td>4</td>\n",
       "      <td>6</td>\n",
       "      <td>2015</td>\n",
       "      <td>12</td>\n",
       "      <td>12</td>\n",
       "      <td>Female</td>\n",
       "      <td>Location11</td>\n",
       "      <td>tertiary</td>\n",
       "      <td>married</td>\n",
       "      <td>admin.</td>\n",
       "      <td>yes</td>\n",
       "      <td>678</td>\n",
       "      <td>204510.94</td>\n",
       "      <td>1</td>\n",
       "      <td>0</td>\n",
       "      <td>1</td>\n",
       "      <td>738.88</td>\n",
       "      <td>1</td>\n",
       "    </tr>\n",
       "    <tr>\n",
       "      <th>4</th>\n",
       "      <td>C2944860</td>\n",
       "      <td>Name_2944860</td>\n",
       "      <td>1993</td>\n",
       "      <td>6</td>\n",
       "      <td>15</td>\n",
       "      <td>2012</td>\n",
       "      <td>10</td>\n",
       "      <td>10</td>\n",
       "      <td>Male</td>\n",
       "      <td>Location13</td>\n",
       "      <td>tertiary</td>\n",
       "      <td>single</td>\n",
       "      <td>management</td>\n",
       "      <td>no</td>\n",
       "      <td>670</td>\n",
       "      <td>0.00</td>\n",
       "      <td>2</td>\n",
       "      <td>1</td>\n",
       "      <td>1</td>\n",
       "      <td>78358.94</td>\n",
       "      <td>0</td>\n",
       "    </tr>\n",
       "  </tbody>\n",
       "</table>\n",
       "</div>"
      ],
      "text/plain": [
       "  CustomerID  CustomerName  yearofBirth  ...  ActiveMember     Salary  Churn\n",
       "0   C5814651  Name_5814651         1980  ...             0  189678.70      0\n",
       "1   C6465787  Name_6465787         1986  ...             0   61936.22      0\n",
       "2   C3824349  Name_3824349         1999  ...             0  193008.52      0\n",
       "3   C8431888  Name_8431888         1969  ...             1     738.88      1\n",
       "4   C2944860  Name_2944860         1993  ...             1   78358.94      0\n",
       "\n",
       "[5 rows x 21 columns]"
      ]
     },
     "execution_count": 4,
     "metadata": {
      "tags": []
     },
     "output_type": "execute_result"
    }
   ],
   "source": [
    "print(train_data.shape)\n",
    "print(test_data.shape)\n",
    "\n",
    "train_data.head()"
   ]
  },
  {
   "cell_type": "code",
   "execution_count": 5,
   "metadata": {
    "colab": {
     "base_uri": "https://localhost:8080/",
     "height": 54
    },
    "colab_type": "code",
    "id": "YrhB4gWWtY8V",
    "outputId": "711b8735-664d-451b-acff-2016c4871ed0"
   },
   "outputs": [
    {
     "name": "stdout",
     "output_type": "stream",
     "text": [
      "['CustomerID', 'CustomerName', 'yearofBirth', 'monthofBirth', 'dayofBirth', 'yearofEntry', 'monthofEntry', 'dayofEntry', 'Gender', 'Location', 'Education', 'MaritalStatus', 'Occupation', 'Ownhouse', 'CreditScore', 'AccountBalance', 'NumberOfProducts', 'IsCreditCardCustomer', 'ActiveMember', 'Salary', 'Churn']\n"
     ]
    }
   ],
   "source": [
    "# What are the names of the columns?\n",
    "print(list(train_data.columns))"
   ]
  },
  {
   "cell_type": "code",
   "execution_count": 6,
   "metadata": {
    "colab": {
     "base_uri": "https://localhost:8080/",
     "height": 391
    },
    "colab_type": "code",
    "id": "6KBIZoAFtuKU",
    "outputId": "a28a2877-90a4-4c9e-cb61-f37283644810"
   },
   "outputs": [
    {
     "data": {
      "text/plain": [
       "CustomerID                 0\n",
       "CustomerName               0\n",
       "yearofBirth                0\n",
       "monthofBirth               0\n",
       "dayofBirth                 0\n",
       "yearofEntry                0\n",
       "monthofEntry               0\n",
       "dayofEntry                 0\n",
       "Gender                     0\n",
       "Location                   0\n",
       "Education               1860\n",
       "MaritalStatus              0\n",
       "Occupation               781\n",
       "Ownhouse                 191\n",
       "CreditScore                0\n",
       "AccountBalance             0\n",
       "NumberOfProducts           0\n",
       "IsCreditCardCustomer       0\n",
       "ActiveMember               0\n",
       "Salary                     0\n",
       "Churn                      0\n",
       "dtype: int64"
      ]
     },
     "execution_count": 6,
     "metadata": {
      "tags": []
     },
     "output_type": "execute_result"
    }
   ],
   "source": [
    "train_data.isna().sum()"
   ]
  },
  {
   "cell_type": "code",
   "execution_count": 7,
   "metadata": {
    "colab": {
     "base_uri": "https://localhost:8080/",
     "height": 374
    },
    "colab_type": "code",
    "id": "mIGaGHQpt1HM",
    "outputId": "3bf22520-1413-486e-a79e-4b787e082c72"
   },
   "outputs": [
    {
     "data": {
      "text/plain": [
       "CustomerID                0\n",
       "CustomerName              0\n",
       "yearofBirth               0\n",
       "monthofBirth              0\n",
       "dayofBirth                0\n",
       "yearofEntry               0\n",
       "monthofEntry              0\n",
       "dayofEntry                0\n",
       "Gender                    0\n",
       "Location                  0\n",
       "Education               481\n",
       "MaritalStatus             0\n",
       "Occupation              177\n",
       "Ownhouse                 59\n",
       "CreditScore               0\n",
       "AccountBalance            0\n",
       "NumberOfProducts          0\n",
       "IsCreditCardCustomer      0\n",
       "ActiveMember              0\n",
       "Salary                    0\n",
       "dtype: int64"
      ]
     },
     "execution_count": 7,
     "metadata": {
      "tags": []
     },
     "output_type": "execute_result"
    }
   ],
   "source": [
    "test_data.isnull().sum()"
   ]
  },
  {
   "cell_type": "markdown",
   "metadata": {
    "colab_type": "text",
    "id": "Sa9WAr9VcKyA"
   },
   "source": [
    "Checking Null Values"
   ]
  },
  {
   "cell_type": "code",
   "execution_count": 8,
   "metadata": {
    "colab": {
     "base_uri": "https://localhost:8080/",
     "height": 204
    },
    "colab_type": "code",
    "id": "jT-DGJWWuC2L",
    "outputId": "b2ebed1a-8f8e-4efd-d207-4738293692ee"
   },
   "outputs": [
    {
     "data": {
      "text/html": [
       "<div>\n",
       "<style scoped>\n",
       "    .dataframe tbody tr th:only-of-type {\n",
       "        vertical-align: middle;\n",
       "    }\n",
       "\n",
       "    .dataframe tbody tr th {\n",
       "        vertical-align: top;\n",
       "    }\n",
       "\n",
       "    .dataframe thead th {\n",
       "        text-align: right;\n",
       "    }\n",
       "</style>\n",
       "<table border=\"1\" class=\"dataframe\">\n",
       "  <thead>\n",
       "    <tr style=\"text-align: right;\">\n",
       "      <th></th>\n",
       "      <th>Total</th>\n",
       "      <th>Percent</th>\n",
       "    </tr>\n",
       "  </thead>\n",
       "  <tbody>\n",
       "    <tr>\n",
       "      <th>Education</th>\n",
       "      <td>1860</td>\n",
       "      <td>0.252717</td>\n",
       "    </tr>\n",
       "    <tr>\n",
       "      <th>Occupation</th>\n",
       "      <td>781</td>\n",
       "      <td>0.106114</td>\n",
       "    </tr>\n",
       "    <tr>\n",
       "      <th>Ownhouse</th>\n",
       "      <td>191</td>\n",
       "      <td>0.025951</td>\n",
       "    </tr>\n",
       "    <tr>\n",
       "      <th>Gender</th>\n",
       "      <td>0</td>\n",
       "      <td>0.000000</td>\n",
       "    </tr>\n",
       "    <tr>\n",
       "      <th>CustomerName</th>\n",
       "      <td>0</td>\n",
       "      <td>0.000000</td>\n",
       "    </tr>\n",
       "  </tbody>\n",
       "</table>\n",
       "</div>"
      ],
      "text/plain": [
       "              Total   Percent\n",
       "Education      1860  0.252717\n",
       "Occupation      781  0.106114\n",
       "Ownhouse        191  0.025951\n",
       "Gender            0  0.000000\n",
       "CustomerName      0  0.000000"
      ]
     },
     "execution_count": 8,
     "metadata": {
      "tags": []
     },
     "output_type": "execute_result"
    }
   ],
   "source": [
    "total = train_data.isnull().sum().sort_values(ascending=False)\n",
    "percent = (train_data.isnull().sum()/train_data.isnull().count()).sort_values(ascending=False)\n",
    "missing_data = pd.concat([total, percent], axis=1, keys=['Total', 'Percent'])\n",
    "missing_data.head(5)"
   ]
  },
  {
   "cell_type": "markdown",
   "metadata": {
    "colab_type": "text",
    "id": "_rV6hVj_cXz9"
   },
   "source": [
    "It is found that 25% of Education rows are NA values"
   ]
  },
  {
   "cell_type": "markdown",
   "metadata": {
    "colab_type": "text",
    "id": "qgvoYXe7clZ5"
   },
   "source": [
    "Checking the summary of Data"
   ]
  },
  {
   "cell_type": "code",
   "execution_count": 9,
   "metadata": {
    "colab": {
     "base_uri": "https://localhost:8080/",
     "height": 317
    },
    "colab_type": "code",
    "id": "u1Xsxsawuh8D",
    "outputId": "bec6d95d-07b8-4263-db08-5cc014f3fe65"
   },
   "outputs": [
    {
     "data": {
      "text/html": [
       "<div>\n",
       "<style scoped>\n",
       "    .dataframe tbody tr th:only-of-type {\n",
       "        vertical-align: middle;\n",
       "    }\n",
       "\n",
       "    .dataframe tbody tr th {\n",
       "        vertical-align: top;\n",
       "    }\n",
       "\n",
       "    .dataframe thead th {\n",
       "        text-align: right;\n",
       "    }\n",
       "</style>\n",
       "<table border=\"1\" class=\"dataframe\">\n",
       "  <thead>\n",
       "    <tr style=\"text-align: right;\">\n",
       "      <th></th>\n",
       "      <th>yearofBirth</th>\n",
       "      <th>monthofBirth</th>\n",
       "      <th>dayofBirth</th>\n",
       "      <th>yearofEntry</th>\n",
       "      <th>monthofEntry</th>\n",
       "      <th>dayofEntry</th>\n",
       "      <th>CreditScore</th>\n",
       "      <th>AccountBalance</th>\n",
       "      <th>NumberOfProducts</th>\n",
       "      <th>IsCreditCardCustomer</th>\n",
       "      <th>ActiveMember</th>\n",
       "      <th>Salary</th>\n",
       "      <th>Churn</th>\n",
       "    </tr>\n",
       "  </thead>\n",
       "  <tbody>\n",
       "    <tr>\n",
       "      <th>count</th>\n",
       "      <td>7360.000000</td>\n",
       "      <td>7360.000000</td>\n",
       "      <td>7360.000000</td>\n",
       "      <td>7360.000000</td>\n",
       "      <td>7360.000000</td>\n",
       "      <td>7360.000000</td>\n",
       "      <td>7360.000000</td>\n",
       "      <td>7360.000000</td>\n",
       "      <td>7360.000000</td>\n",
       "      <td>7360.000000</td>\n",
       "      <td>7360.000000</td>\n",
       "      <td>7360.000000</td>\n",
       "      <td>7360.000000</td>\n",
       "    </tr>\n",
       "    <tr>\n",
       "      <th>mean</th>\n",
       "      <td>1979.058832</td>\n",
       "      <td>6.540897</td>\n",
       "      <td>14.607201</td>\n",
       "      <td>2012.984783</td>\n",
       "      <td>6.477174</td>\n",
       "      <td>14.505571</td>\n",
       "      <td>650.648777</td>\n",
       "      <td>76601.068011</td>\n",
       "      <td>1.524592</td>\n",
       "      <td>0.704212</td>\n",
       "      <td>0.510462</td>\n",
       "      <td>99967.894062</td>\n",
       "      <td>0.202717</td>\n",
       "    </tr>\n",
       "    <tr>\n",
       "      <th>std</th>\n",
       "      <td>10.464673</td>\n",
       "      <td>3.432135</td>\n",
       "      <td>8.068158</td>\n",
       "      <td>2.898385</td>\n",
       "      <td>3.433252</td>\n",
       "      <td>8.020220</td>\n",
       "      <td>96.769231</td>\n",
       "      <td>62442.214871</td>\n",
       "      <td>0.577415</td>\n",
       "      <td>0.456427</td>\n",
       "      <td>0.499924</td>\n",
       "      <td>57342.390262</td>\n",
       "      <td>0.402051</td>\n",
       "    </tr>\n",
       "    <tr>\n",
       "      <th>min</th>\n",
       "      <td>1926.000000</td>\n",
       "      <td>1.000000</td>\n",
       "      <td>1.000000</td>\n",
       "      <td>2008.000000</td>\n",
       "      <td>1.000000</td>\n",
       "      <td>1.000000</td>\n",
       "      <td>350.000000</td>\n",
       "      <td>0.000000</td>\n",
       "      <td>1.000000</td>\n",
       "      <td>0.000000</td>\n",
       "      <td>0.000000</td>\n",
       "      <td>11.580000</td>\n",
       "      <td>0.000000</td>\n",
       "    </tr>\n",
       "    <tr>\n",
       "      <th>25%</th>\n",
       "      <td>1974.000000</td>\n",
       "      <td>4.000000</td>\n",
       "      <td>8.000000</td>\n",
       "      <td>2010.000000</td>\n",
       "      <td>4.000000</td>\n",
       "      <td>8.000000</td>\n",
       "      <td>584.000000</td>\n",
       "      <td>0.000000</td>\n",
       "      <td>1.000000</td>\n",
       "      <td>0.000000</td>\n",
       "      <td>0.000000</td>\n",
       "      <td>51361.780000</td>\n",
       "      <td>0.000000</td>\n",
       "    </tr>\n",
       "    <tr>\n",
       "      <th>50%</th>\n",
       "      <td>1981.000000</td>\n",
       "      <td>7.000000</td>\n",
       "      <td>15.000000</td>\n",
       "      <td>2013.000000</td>\n",
       "      <td>6.000000</td>\n",
       "      <td>15.000000</td>\n",
       "      <td>652.000000</td>\n",
       "      <td>96913.725000</td>\n",
       "      <td>1.000000</td>\n",
       "      <td>1.000000</td>\n",
       "      <td>1.000000</td>\n",
       "      <td>99446.940000</td>\n",
       "      <td>0.000000</td>\n",
       "    </tr>\n",
       "    <tr>\n",
       "      <th>75%</th>\n",
       "      <td>1986.000000</td>\n",
       "      <td>10.000000</td>\n",
       "      <td>22.000000</td>\n",
       "      <td>2015.250000</td>\n",
       "      <td>9.000000</td>\n",
       "      <td>21.000000</td>\n",
       "      <td>718.000000</td>\n",
       "      <td>127660.767500</td>\n",
       "      <td>2.000000</td>\n",
       "      <td>1.000000</td>\n",
       "      <td>1.000000</td>\n",
       "      <td>149068.075000</td>\n",
       "      <td>0.000000</td>\n",
       "    </tr>\n",
       "    <tr>\n",
       "      <th>max</th>\n",
       "      <td>2000.000000</td>\n",
       "      <td>12.000000</td>\n",
       "      <td>28.000000</td>\n",
       "      <td>2018.000000</td>\n",
       "      <td>12.000000</td>\n",
       "      <td>28.000000</td>\n",
       "      <td>850.000000</td>\n",
       "      <td>250898.090000</td>\n",
       "      <td>4.000000</td>\n",
       "      <td>1.000000</td>\n",
       "      <td>1.000000</td>\n",
       "      <td>199992.480000</td>\n",
       "      <td>1.000000</td>\n",
       "    </tr>\n",
       "  </tbody>\n",
       "</table>\n",
       "</div>"
      ],
      "text/plain": [
       "       yearofBirth  monthofBirth  ...         Salary        Churn\n",
       "count  7360.000000   7360.000000  ...    7360.000000  7360.000000\n",
       "mean   1979.058832      6.540897  ...   99967.894062     0.202717\n",
       "std      10.464673      3.432135  ...   57342.390262     0.402051\n",
       "min    1926.000000      1.000000  ...      11.580000     0.000000\n",
       "25%    1974.000000      4.000000  ...   51361.780000     0.000000\n",
       "50%    1981.000000      7.000000  ...   99446.940000     0.000000\n",
       "75%    1986.000000     10.000000  ...  149068.075000     0.000000\n",
       "max    2000.000000     12.000000  ...  199992.480000     1.000000\n",
       "\n",
       "[8 rows x 13 columns]"
      ]
     },
     "execution_count": 9,
     "metadata": {
      "tags": []
     },
     "output_type": "execute_result"
    }
   ],
   "source": [
    "train_data.describe()"
   ]
  },
  {
   "cell_type": "code",
   "execution_count": 10,
   "metadata": {
    "colab": {
     "base_uri": "https://localhost:8080/",
     "height": 68
    },
    "colab_type": "code",
    "id": "_SuJipQ9u4pQ",
    "outputId": "ff3431ff-24e7-4a68-f146-4477811785bd"
   },
   "outputs": [
    {
     "data": {
      "text/plain": [
       "0    5868\n",
       "1    1492\n",
       "Name: Churn, dtype: int64"
      ]
     },
     "execution_count": 10,
     "metadata": {
      "tags": []
     },
     "output_type": "execute_result"
    }
   ],
   "source": [
    "train_data.Churn.value_counts()"
   ]
  },
  {
   "cell_type": "code",
   "execution_count": 11,
   "metadata": {
    "colab": {
     "base_uri": "https://localhost:8080/",
     "height": 279
    },
    "colab_type": "code",
    "id": "kUQ5NtM4v5w9",
    "outputId": "93957ca6-cc21-433e-8a7e-df079509c9c6"
   },
   "outputs": [
    {
     "data": {
      "image/png": "[encoded data removed]",
      "text/plain": [
       "<Figure size 432x288 with 1 Axes>"
      ]
     },
     "metadata": {
      "tags": []
     },
     "output_type": "display_data"
    }
   ],
   "source": [
    "# Plot Distribution\n",
    "sns.countplot(x='Churn',data=train_data)\n",
    "plt.show()"
   ]
  },
  {
   "cell_type": "markdown",
   "metadata": {
    "colab_type": "text",
    "id": "1Tz8JvPTcu1K"
   },
   "source": [
    "The above plot shows the variation in Target Column"
   ]
  },
  {
   "cell_type": "markdown",
   "metadata": {
    "colab_type": "text",
    "id": "s9_VdweLdEJM"
   },
   "source": [
    "Checking the Datatypes of the train data"
   ]
  },
  {
   "cell_type": "code",
   "execution_count": 12,
   "metadata": {
    "colab": {
     "base_uri": "https://localhost:8080/",
     "height": 391
    },
    "colab_type": "code",
    "id": "Ay5P4GnZwMrX",
    "outputId": "4cbb7d56-5df4-461b-b69c-af653b20413c"
   },
   "outputs": [
    {
     "data": {
      "text/plain": [
       "CustomerID               object\n",
       "CustomerName             object\n",
       "yearofBirth               int64\n",
       "monthofBirth              int64\n",
       "dayofBirth                int64\n",
       "yearofEntry               int64\n",
       "monthofEntry              int64\n",
       "dayofEntry                int64\n",
       "Gender                   object\n",
       "Location                 object\n",
       "Education                object\n",
       "MaritalStatus            object\n",
       "Occupation               object\n",
       "Ownhouse                 object\n",
       "CreditScore               int64\n",
       "AccountBalance          float64\n",
       "NumberOfProducts          int64\n",
       "IsCreditCardCustomer      int64\n",
       "ActiveMember              int64\n",
       "Salary                  float64\n",
       "Churn                     int64\n",
       "dtype: object"
      ]
     },
     "execution_count": 12,
     "metadata": {
      "tags": []
     },
     "output_type": "execute_result"
    }
   ],
   "source": [
    "train_data.dtypes"
   ]
  },
  {
   "cell_type": "markdown",
   "metadata": {
    "colab_type": "text",
    "id": "neq_QZ1ddM9i"
   },
   "source": [
    "Summary of Categorical Variables"
   ]
  },
  {
   "cell_type": "code",
   "execution_count": 13,
   "metadata": {
    "colab": {
     "base_uri": "https://localhost:8080/",
     "height": 173
    },
    "colab_type": "code",
    "id": "ldVPYKa6wdDe",
    "outputId": "b620ccc4-4284-44ba-aa21-b67f722c775f"
   },
   "outputs": [
    {
     "data": {
      "text/html": [
       "<div>\n",
       "<style scoped>\n",
       "    .dataframe tbody tr th:only-of-type {\n",
       "        vertical-align: middle;\n",
       "    }\n",
       "\n",
       "    .dataframe tbody tr th {\n",
       "        vertical-align: top;\n",
       "    }\n",
       "\n",
       "    .dataframe thead th {\n",
       "        text-align: right;\n",
       "    }\n",
       "</style>\n",
       "<table border=\"1\" class=\"dataframe\">\n",
       "  <thead>\n",
       "    <tr style=\"text-align: right;\">\n",
       "      <th></th>\n",
       "      <th>CustomerID</th>\n",
       "      <th>CustomerName</th>\n",
       "      <th>Gender</th>\n",
       "      <th>Location</th>\n",
       "      <th>Education</th>\n",
       "      <th>MaritalStatus</th>\n",
       "      <th>Occupation</th>\n",
       "      <th>Ownhouse</th>\n",
       "    </tr>\n",
       "  </thead>\n",
       "  <tbody>\n",
       "    <tr>\n",
       "      <th>count</th>\n",
       "      <td>7360</td>\n",
       "      <td>7360</td>\n",
       "      <td>7360</td>\n",
       "      <td>7360</td>\n",
       "      <td>5500</td>\n",
       "      <td>7360</td>\n",
       "      <td>6579</td>\n",
       "      <td>7169</td>\n",
       "    </tr>\n",
       "    <tr>\n",
       "      <th>unique</th>\n",
       "      <td>7360</td>\n",
       "      <td>7360</td>\n",
       "      <td>2</td>\n",
       "      <td>3</td>\n",
       "      <td>3</td>\n",
       "      <td>3</td>\n",
       "      <td>6</td>\n",
       "      <td>2</td>\n",
       "    </tr>\n",
       "    <tr>\n",
       "      <th>top</th>\n",
       "      <td>C3277729</td>\n",
       "      <td>Name_2006884</td>\n",
       "      <td>Male</td>\n",
       "      <td>Location11</td>\n",
       "      <td>primary</td>\n",
       "      <td>single</td>\n",
       "      <td>admin.</td>\n",
       "      <td>no</td>\n",
       "    </tr>\n",
       "    <tr>\n",
       "      <th>freq</th>\n",
       "      <td>1</td>\n",
       "      <td>1</td>\n",
       "      <td>3994</td>\n",
       "      <td>3693</td>\n",
       "      <td>1864</td>\n",
       "      <td>2559</td>\n",
       "      <td>3207</td>\n",
       "      <td>3684</td>\n",
       "    </tr>\n",
       "  </tbody>\n",
       "</table>\n",
       "</div>"
      ],
      "text/plain": [
       "       CustomerID  CustomerName Gender  ... MaritalStatus Occupation Ownhouse\n",
       "count        7360          7360   7360  ...          7360       6579     7169\n",
       "unique       7360          7360      2  ...             3          6        2\n",
       "top      C3277729  Name_2006884   Male  ...        single     admin.       no\n",
       "freq            1             1   3994  ...          2559       3207     3684\n",
       "\n",
       "[4 rows x 8 columns]"
      ]
     },
     "execution_count": 13,
     "metadata": {
      "tags": []
     },
     "output_type": "execute_result"
    }
   ],
   "source": [
    "train_data.describe(include='object')"
   ]
  },
  {
   "cell_type": "markdown",
   "metadata": {
    "colab_type": "text",
    "id": "DwU0VC4rdVMQ"
   },
   "source": [
    "Checking the Education level proportion of bank customers"
   ]
  },
  {
   "cell_type": "code",
   "execution_count": 14,
   "metadata": {
    "colab": {
     "base_uri": "https://localhost:8080/",
     "height": 85
    },
    "colab_type": "code",
    "id": "Y8po5wNsxB1j",
    "outputId": "828ff018-9e0e-4828-8fa9-7444277b4941"
   },
   "outputs": [
    {
     "data": {
      "text/plain": [
       "primary      1864\n",
       "secondary    1839\n",
       "tertiary     1797\n",
       "Name: Education, dtype: int64"
      ]
     },
     "execution_count": 14,
     "metadata": {
      "tags": []
     },
     "output_type": "execute_result"
    }
   ],
   "source": [
    "train_data.Education.value_counts()"
   ]
  },
  {
   "cell_type": "markdown",
   "metadata": {
    "colab_type": "text",
    "id": "Uz9Bh_GJdnwZ"
   },
   "source": [
    "Saving the Dataset in Train Original for having the original dataset."
   ]
  },
  {
   "cell_type": "code",
   "execution_count": 0,
   "metadata": {
    "colab": {},
    "colab_type": "code",
    "id": "iv49lNgExjBp"
   },
   "outputs": [],
   "source": [
    "train_original=train_data.copy() \n",
    "test_original=test_data.copy()"
   ]
  },
  {
   "cell_type": "markdown",
   "metadata": {
    "colab_type": "text",
    "id": "eXEUaCzHeU9v"
   },
   "source": [
    "BoxPlot to Check Outliers"
   ]
  },
  {
   "cell_type": "code",
   "execution_count": 16,
   "metadata": {
    "colab": {
     "base_uri": "https://localhost:8080/",
     "height": 311
    },
    "colab_type": "code",
    "id": "-HPu4IdXyc67",
    "outputId": "3553f5ea-ce5d-4622-b002-3d39917fc382"
   },
   "outputs": [
    {
     "data": {
      "text/plain": [
       "Text(0.5, 0.98, '')"
      ]
     },
     "execution_count": 16,
     "metadata": {
      "tags": []
     },
     "output_type": "execute_result"
    },
    {
     "data": {
      "image/png": "[encoded data removed]",
      "text/plain": [
       "<Figure size 432x288 with 1 Axes>"
      ]
     },
     "metadata": {
      "tags": []
     },
     "output_type": "display_data"
    }
   ],
   "source": [
    "train_data.boxplot(column='AccountBalance', by = 'Education') \n",
    "plt.suptitle(\"\")"
   ]
  },
  {
   "cell_type": "markdown",
   "metadata": {
    "colab_type": "text",
    "id": "Vc90rpcceioH"
   },
   "source": [
    "Copying the CustomerID for submission purpose"
   ]
  },
  {
   "cell_type": "code",
   "execution_count": 0,
   "metadata": {
    "colab": {},
    "colab_type": "code",
    "id": "pIooSvyByxbg"
   },
   "outputs": [],
   "source": [
    "id_value =test_data['CustomerID']"
   ]
  },
  {
   "cell_type": "code",
   "execution_count": 18,
   "metadata": {
    "colab": {
     "base_uri": "https://localhost:8080/",
     "height": 193
    },
    "colab_type": "code",
    "id": "nfCSNm-V2vR9",
    "outputId": "fb2d3b75-71a8-46c4-f61a-e65ba0abf4a9"
   },
   "outputs": [
    {
     "data": {
      "text/html": [
       "<div>\n",
       "<style scoped>\n",
       "    .dataframe tbody tr th:only-of-type {\n",
       "        vertical-align: middle;\n",
       "    }\n",
       "\n",
       "    .dataframe tbody tr th {\n",
       "        vertical-align: top;\n",
       "    }\n",
       "\n",
       "    .dataframe thead th {\n",
       "        text-align: right;\n",
       "    }\n",
       "</style>\n",
       "<table border=\"1\" class=\"dataframe\">\n",
       "  <thead>\n",
       "    <tr style=\"text-align: right;\">\n",
       "      <th></th>\n",
       "      <th>yearofBirth</th>\n",
       "      <th>monthofBirth</th>\n",
       "      <th>dayofBirth</th>\n",
       "      <th>yearofEntry</th>\n",
       "      <th>monthofEntry</th>\n",
       "      <th>dayofEntry</th>\n",
       "      <th>CreditScore</th>\n",
       "      <th>AccountBalance</th>\n",
       "      <th>NumberOfProducts</th>\n",
       "      <th>IsCreditCardCustomer</th>\n",
       "      <th>ActiveMember</th>\n",
       "      <th>Salary</th>\n",
       "      <th>Churn</th>\n",
       "    </tr>\n",
       "    <tr>\n",
       "      <th>Education</th>\n",
       "      <th></th>\n",
       "      <th></th>\n",
       "      <th></th>\n",
       "      <th></th>\n",
       "      <th></th>\n",
       "      <th></th>\n",
       "      <th></th>\n",
       "      <th></th>\n",
       "      <th></th>\n",
       "      <th></th>\n",
       "      <th></th>\n",
       "      <th></th>\n",
       "      <th></th>\n",
       "    </tr>\n",
       "  </thead>\n",
       "  <tbody>\n",
       "    <tr>\n",
       "      <th>primary</th>\n",
       "      <td>1979.194742</td>\n",
       "      <td>6.543991</td>\n",
       "      <td>14.353541</td>\n",
       "      <td>2013.029506</td>\n",
       "      <td>6.488734</td>\n",
       "      <td>14.392704</td>\n",
       "      <td>653.013948</td>\n",
       "      <td>77050.054474</td>\n",
       "      <td>1.521996</td>\n",
       "      <td>0.728004</td>\n",
       "      <td>0.498927</td>\n",
       "      <td>99663.888895</td>\n",
       "      <td>0.194742</td>\n",
       "    </tr>\n",
       "    <tr>\n",
       "      <th>secondary</th>\n",
       "      <td>1978.607395</td>\n",
       "      <td>6.325177</td>\n",
       "      <td>14.887983</td>\n",
       "      <td>2012.986406</td>\n",
       "      <td>6.388254</td>\n",
       "      <td>14.500272</td>\n",
       "      <td>652.761827</td>\n",
       "      <td>76246.503616</td>\n",
       "      <td>1.518216</td>\n",
       "      <td>0.700924</td>\n",
       "      <td>0.510060</td>\n",
       "      <td>99834.501457</td>\n",
       "      <td>0.218597</td>\n",
       "    </tr>\n",
       "    <tr>\n",
       "      <th>tertiary</th>\n",
       "      <td>1979.442404</td>\n",
       "      <td>6.691708</td>\n",
       "      <td>14.678353</td>\n",
       "      <td>2012.961603</td>\n",
       "      <td>6.513634</td>\n",
       "      <td>14.370618</td>\n",
       "      <td>645.663884</td>\n",
       "      <td>75163.772677</td>\n",
       "      <td>1.534224</td>\n",
       "      <td>0.679466</td>\n",
       "      <td>0.529215</td>\n",
       "      <td>98332.797218</td>\n",
       "      <td>0.195326</td>\n",
       "    </tr>\n",
       "  </tbody>\n",
       "</table>\n",
       "</div>"
      ],
      "text/plain": [
       "           yearofBirth  monthofBirth  ...        Salary     Churn\n",
       "Education                             ...                        \n",
       "primary    1979.194742      6.543991  ...  99663.888895  0.194742\n",
       "secondary  1978.607395      6.325177  ...  99834.501457  0.218597\n",
       "tertiary   1979.442404      6.691708  ...  98332.797218  0.195326\n",
       "\n",
       "[3 rows x 13 columns]"
      ]
     },
     "execution_count": 18,
     "metadata": {
      "tags": []
     },
     "output_type": "execute_result"
    }
   ],
   "source": [
    "train_data.groupby('Education').mean()"
   ]
  },
  {
   "cell_type": "markdown",
   "metadata": {
    "colab_type": "text",
    "id": "41TELg752fnq"
   },
   "source": [
    "# Dropping Columns"
   ]
  },
  {
   "cell_type": "code",
   "execution_count": 0,
   "metadata": {
    "colab": {},
    "colab_type": "code",
    "id": "VQRSOh332mR1"
   },
   "outputs": [],
   "source": [
    "train_data.drop([\"CustomerID\",\"CustomerName\",\"monthofBirth\",\"dayofBirth\",\"dayofEntry\"], axis = 1, inplace= True)\n",
    "test_data.drop([\"CustomerID\",\"CustomerName\",\"monthofBirth\",\"dayofBirth\",\"dayofEntry\"], axis = 1, inplace= True)"
   ]
  },
  {
   "cell_type": "code",
   "execution_count": 20,
   "metadata": {
    "colab": {
     "base_uri": "https://localhost:8080/",
     "height": 51
    },
    "colab_type": "code",
    "id": "3U0TTdte6N4b",
    "outputId": "46470659-72bf-4276-ab8a-098f3fdb3bb5"
   },
   "outputs": [
    {
     "name": "stdout",
     "output_type": "stream",
     "text": [
      "(7360, 16)\n",
      "(1840, 15)\n"
     ]
    }
   ],
   "source": [
    "print(train_data.shape)\n",
    "print(test_data.shape)"
   ]
  },
  {
   "cell_type": "markdown",
   "metadata": {
    "colab_type": "text",
    "id": "XzAzVUHJes5T"
   },
   "source": [
    "Creating New Column Age by subtracting 2018 with YearofBirth"
   ]
  },
  {
   "cell_type": "code",
   "execution_count": 0,
   "metadata": {
    "colab": {},
    "colab_type": "code",
    "id": "F1Dnyeji6w9L"
   },
   "outputs": [],
   "source": [
    "train_data['Age'] = 2018-train_data['yearofBirth']"
   ]
  },
  {
   "cell_type": "code",
   "execution_count": 22,
   "metadata": {
    "colab": {
     "base_uri": "https://localhost:8080/",
     "height": 224
    },
    "colab_type": "code",
    "id": "BvKKagqL8aFU",
    "outputId": "72eb4337-f366-4635-ef08-b5fb6c257ed7"
   },
   "outputs": [
    {
     "data": {
      "text/html": [
       "<div>\n",
       "<style scoped>\n",
       "    .dataframe tbody tr th:only-of-type {\n",
       "        vertical-align: middle;\n",
       "    }\n",
       "\n",
       "    .dataframe tbody tr th {\n",
       "        vertical-align: top;\n",
       "    }\n",
       "\n",
       "    .dataframe thead th {\n",
       "        text-align: right;\n",
       "    }\n",
       "</style>\n",
       "<table border=\"1\" class=\"dataframe\">\n",
       "  <thead>\n",
       "    <tr style=\"text-align: right;\">\n",
       "      <th></th>\n",
       "      <th>yearofBirth</th>\n",
       "      <th>yearofEntry</th>\n",
       "      <th>monthofEntry</th>\n",
       "      <th>Gender</th>\n",
       "      <th>Location</th>\n",
       "      <th>Education</th>\n",
       "      <th>MaritalStatus</th>\n",
       "      <th>Occupation</th>\n",
       "      <th>Ownhouse</th>\n",
       "      <th>CreditScore</th>\n",
       "      <th>AccountBalance</th>\n",
       "      <th>NumberOfProducts</th>\n",
       "      <th>IsCreditCardCustomer</th>\n",
       "      <th>ActiveMember</th>\n",
       "      <th>Salary</th>\n",
       "      <th>Churn</th>\n",
       "      <th>Age</th>\n",
       "    </tr>\n",
       "  </thead>\n",
       "  <tbody>\n",
       "    <tr>\n",
       "      <th>0</th>\n",
       "      <td>1980</td>\n",
       "      <td>2014</td>\n",
       "      <td>11</td>\n",
       "      <td>Male</td>\n",
       "      <td>Location11</td>\n",
       "      <td>primary</td>\n",
       "      <td>divorced</td>\n",
       "      <td>management</td>\n",
       "      <td>no</td>\n",
       "      <td>716</td>\n",
       "      <td>0.00</td>\n",
       "      <td>2</td>\n",
       "      <td>1</td>\n",
       "      <td>0</td>\n",
       "      <td>189678.70</td>\n",
       "      <td>0</td>\n",
       "      <td>38</td>\n",
       "    </tr>\n",
       "    <tr>\n",
       "      <th>1</th>\n",
       "      <td>1986</td>\n",
       "      <td>2011</td>\n",
       "      <td>8</td>\n",
       "      <td>Female</td>\n",
       "      <td>Location13</td>\n",
       "      <td>primary</td>\n",
       "      <td>divorced</td>\n",
       "      <td>admin.</td>\n",
       "      <td>no</td>\n",
       "      <td>568</td>\n",
       "      <td>169399.60</td>\n",
       "      <td>1</td>\n",
       "      <td>1</td>\n",
       "      <td>0</td>\n",
       "      <td>61936.22</td>\n",
       "      <td>0</td>\n",
       "      <td>32</td>\n",
       "    </tr>\n",
       "    <tr>\n",
       "      <th>2</th>\n",
       "      <td>1999</td>\n",
       "      <td>2013</td>\n",
       "      <td>12</td>\n",
       "      <td>Male</td>\n",
       "      <td>Location13</td>\n",
       "      <td>secondary</td>\n",
       "      <td>married</td>\n",
       "      <td>NaN</td>\n",
       "      <td>NaN</td>\n",
       "      <td>739</td>\n",
       "      <td>89750.21</td>\n",
       "      <td>1</td>\n",
       "      <td>1</td>\n",
       "      <td>0</td>\n",
       "      <td>193008.52</td>\n",
       "      <td>0</td>\n",
       "      <td>19</td>\n",
       "    </tr>\n",
       "    <tr>\n",
       "      <th>3</th>\n",
       "      <td>1969</td>\n",
       "      <td>2015</td>\n",
       "      <td>12</td>\n",
       "      <td>Female</td>\n",
       "      <td>Location11</td>\n",
       "      <td>tertiary</td>\n",
       "      <td>married</td>\n",
       "      <td>admin.</td>\n",
       "      <td>yes</td>\n",
       "      <td>678</td>\n",
       "      <td>204510.94</td>\n",
       "      <td>1</td>\n",
       "      <td>0</td>\n",
       "      <td>1</td>\n",
       "      <td>738.88</td>\n",
       "      <td>1</td>\n",
       "      <td>49</td>\n",
       "    </tr>\n",
       "    <tr>\n",
       "      <th>4</th>\n",
       "      <td>1993</td>\n",
       "      <td>2012</td>\n",
       "      <td>10</td>\n",
       "      <td>Male</td>\n",
       "      <td>Location13</td>\n",
       "      <td>tertiary</td>\n",
       "      <td>single</td>\n",
       "      <td>management</td>\n",
       "      <td>no</td>\n",
       "      <td>670</td>\n",
       "      <td>0.00</td>\n",
       "      <td>2</td>\n",
       "      <td>1</td>\n",
       "      <td>1</td>\n",
       "      <td>78358.94</td>\n",
       "      <td>0</td>\n",
       "      <td>25</td>\n",
       "    </tr>\n",
       "  </tbody>\n",
       "</table>\n",
       "</div>"
      ],
      "text/plain": [
       "   yearofBirth  yearofEntry  monthofEntry  ...     Salary Churn Age\n",
       "0         1980         2014            11  ...  189678.70     0  38\n",
       "1         1986         2011             8  ...   61936.22     0  32\n",
       "2         1999         2013            12  ...  193008.52     0  19\n",
       "3         1969         2015            12  ...     738.88     1  49\n",
       "4         1993         2012            10  ...   78358.94     0  25\n",
       "\n",
       "[5 rows x 17 columns]"
      ]
     },
     "execution_count": 22,
     "metadata": {
      "tags": []
     },
     "output_type": "execute_result"
    }
   ],
   "source": [
    "train_data.head()"
   ]
  },
  {
   "cell_type": "code",
   "execution_count": 0,
   "metadata": {
    "colab": {},
    "colab_type": "code",
    "id": "RIrYm8UT8eNo"
   },
   "outputs": [],
   "source": [
    "test_data['Age'] = 2018-test_data['yearofBirth']"
   ]
  },
  {
   "cell_type": "markdown",
   "metadata": {
    "colab_type": "text",
    "id": "ND6QUyjKfAgi"
   },
   "source": [
    "Creating Yrsofassociation of customer with the bank"
   ]
  },
  {
   "cell_type": "code",
   "execution_count": 0,
   "metadata": {
    "colab": {},
    "colab_type": "code",
    "id": "fIRWSXg-85QW"
   },
   "outputs": [],
   "source": [
    "train_data[\"yrsofassociation\"] = 2019-train_data['yearofEntry']"
   ]
  },
  {
   "cell_type": "code",
   "execution_count": 0,
   "metadata": {
    "colab": {},
    "colab_type": "code",
    "id": "aaKZApox9tCH"
   },
   "outputs": [],
   "source": [
    "test_data[\"yrsofassociation\"] = 2019-test_data['yearofEntry']"
   ]
  },
  {
   "cell_type": "code",
   "execution_count": 26,
   "metadata": {
    "colab": {
     "base_uri": "https://localhost:8080/",
     "height": 224
    },
    "colab_type": "code",
    "id": "TYQXhSe_9yhx",
    "outputId": "312d8f03-b91b-4957-a1a3-066125781167"
   },
   "outputs": [
    {
     "data": {
      "text/html": [
       "<div>\n",
       "<style scoped>\n",
       "    .dataframe tbody tr th:only-of-type {\n",
       "        vertical-align: middle;\n",
       "    }\n",
       "\n",
       "    .dataframe tbody tr th {\n",
       "        vertical-align: top;\n",
       "    }\n",
       "\n",
       "    .dataframe thead th {\n",
       "        text-align: right;\n",
       "    }\n",
       "</style>\n",
       "<table border=\"1\" class=\"dataframe\">\n",
       "  <thead>\n",
       "    <tr style=\"text-align: right;\">\n",
       "      <th></th>\n",
       "      <th>yearofBirth</th>\n",
       "      <th>yearofEntry</th>\n",
       "      <th>monthofEntry</th>\n",
       "      <th>Gender</th>\n",
       "      <th>Location</th>\n",
       "      <th>Education</th>\n",
       "      <th>MaritalStatus</th>\n",
       "      <th>Occupation</th>\n",
       "      <th>Ownhouse</th>\n",
       "      <th>CreditScore</th>\n",
       "      <th>AccountBalance</th>\n",
       "      <th>NumberOfProducts</th>\n",
       "      <th>IsCreditCardCustomer</th>\n",
       "      <th>ActiveMember</th>\n",
       "      <th>Salary</th>\n",
       "      <th>Churn</th>\n",
       "      <th>Age</th>\n",
       "      <th>yrsofassociation</th>\n",
       "    </tr>\n",
       "  </thead>\n",
       "  <tbody>\n",
       "    <tr>\n",
       "      <th>0</th>\n",
       "      <td>1980</td>\n",
       "      <td>2014</td>\n",
       "      <td>11</td>\n",
       "      <td>Male</td>\n",
       "      <td>Location11</td>\n",
       "      <td>primary</td>\n",
       "      <td>divorced</td>\n",
       "      <td>management</td>\n",
       "      <td>no</td>\n",
       "      <td>716</td>\n",
       "      <td>0.00</td>\n",
       "      <td>2</td>\n",
       "      <td>1</td>\n",
       "      <td>0</td>\n",
       "      <td>189678.70</td>\n",
       "      <td>0</td>\n",
       "      <td>38</td>\n",
       "      <td>5</td>\n",
       "    </tr>\n",
       "    <tr>\n",
       "      <th>1</th>\n",
       "      <td>1986</td>\n",
       "      <td>2011</td>\n",
       "      <td>8</td>\n",
       "      <td>Female</td>\n",
       "      <td>Location13</td>\n",
       "      <td>primary</td>\n",
       "      <td>divorced</td>\n",
       "      <td>admin.</td>\n",
       "      <td>no</td>\n",
       "      <td>568</td>\n",
       "      <td>169399.60</td>\n",
       "      <td>1</td>\n",
       "      <td>1</td>\n",
       "      <td>0</td>\n",
       "      <td>61936.22</td>\n",
       "      <td>0</td>\n",
       "      <td>32</td>\n",
       "      <td>8</td>\n",
       "    </tr>\n",
       "    <tr>\n",
       "      <th>2</th>\n",
       "      <td>1999</td>\n",
       "      <td>2013</td>\n",
       "      <td>12</td>\n",
       "      <td>Male</td>\n",
       "      <td>Location13</td>\n",
       "      <td>secondary</td>\n",
       "      <td>married</td>\n",
       "      <td>NaN</td>\n",
       "      <td>NaN</td>\n",
       "      <td>739</td>\n",
       "      <td>89750.21</td>\n",
       "      <td>1</td>\n",
       "      <td>1</td>\n",
       "      <td>0</td>\n",
       "      <td>193008.52</td>\n",
       "      <td>0</td>\n",
       "      <td>19</td>\n",
       "      <td>6</td>\n",
       "    </tr>\n",
       "    <tr>\n",
       "      <th>3</th>\n",
       "      <td>1969</td>\n",
       "      <td>2015</td>\n",
       "      <td>12</td>\n",
       "      <td>Female</td>\n",
       "      <td>Location11</td>\n",
       "      <td>tertiary</td>\n",
       "      <td>married</td>\n",
       "      <td>admin.</td>\n",
       "      <td>yes</td>\n",
       "      <td>678</td>\n",
       "      <td>204510.94</td>\n",
       "      <td>1</td>\n",
       "      <td>0</td>\n",
       "      <td>1</td>\n",
       "      <td>738.88</td>\n",
       "      <td>1</td>\n",
       "      <td>49</td>\n",
       "      <td>4</td>\n",
       "    </tr>\n",
       "    <tr>\n",
       "      <th>4</th>\n",
       "      <td>1993</td>\n",
       "      <td>2012</td>\n",
       "      <td>10</td>\n",
       "      <td>Male</td>\n",
       "      <td>Location13</td>\n",
       "      <td>tertiary</td>\n",
       "      <td>single</td>\n",
       "      <td>management</td>\n",
       "      <td>no</td>\n",
       "      <td>670</td>\n",
       "      <td>0.00</td>\n",
       "      <td>2</td>\n",
       "      <td>1</td>\n",
       "      <td>1</td>\n",
       "      <td>78358.94</td>\n",
       "      <td>0</td>\n",
       "      <td>25</td>\n",
       "      <td>7</td>\n",
       "    </tr>\n",
       "  </tbody>\n",
       "</table>\n",
       "</div>"
      ],
      "text/plain": [
       "   yearofBirth  yearofEntry  monthofEntry  ... Churn Age yrsofassociation\n",
       "0         1980         2014            11  ...     0  38                5\n",
       "1         1986         2011             8  ...     0  32                8\n",
       "2         1999         2013            12  ...     0  19                6\n",
       "3         1969         2015            12  ...     1  49                4\n",
       "4         1993         2012            10  ...     0  25                7\n",
       "\n",
       "[5 rows x 18 columns]"
      ]
     },
     "execution_count": 26,
     "metadata": {
      "tags": []
     },
     "output_type": "execute_result"
    }
   ],
   "source": [
    "train_data.head()"
   ]
  },
  {
   "cell_type": "code",
   "execution_count": 27,
   "metadata": {
    "colab": {
     "base_uri": "https://localhost:8080/",
     "height": 224
    },
    "colab_type": "code",
    "id": "0s1Q8Tos9271",
    "outputId": "c2ed8d16-0fd2-4c7a-9bf1-4d5f4262b2c7"
   },
   "outputs": [
    {
     "data": {
      "text/html": [
       "<div>\n",
       "<style scoped>\n",
       "    .dataframe tbody tr th:only-of-type {\n",
       "        vertical-align: middle;\n",
       "    }\n",
       "\n",
       "    .dataframe tbody tr th {\n",
       "        vertical-align: top;\n",
       "    }\n",
       "\n",
       "    .dataframe thead th {\n",
       "        text-align: right;\n",
       "    }\n",
       "</style>\n",
       "<table border=\"1\" class=\"dataframe\">\n",
       "  <thead>\n",
       "    <tr style=\"text-align: right;\">\n",
       "      <th></th>\n",
       "      <th>yearofBirth</th>\n",
       "      <th>yearofEntry</th>\n",
       "      <th>monthofEntry</th>\n",
       "      <th>Gender</th>\n",
       "      <th>Location</th>\n",
       "      <th>Education</th>\n",
       "      <th>MaritalStatus</th>\n",
       "      <th>Occupation</th>\n",
       "      <th>Ownhouse</th>\n",
       "      <th>CreditScore</th>\n",
       "      <th>AccountBalance</th>\n",
       "      <th>NumberOfProducts</th>\n",
       "      <th>IsCreditCardCustomer</th>\n",
       "      <th>ActiveMember</th>\n",
       "      <th>Salary</th>\n",
       "      <th>Age</th>\n",
       "      <th>yrsofassociation</th>\n",
       "    </tr>\n",
       "  </thead>\n",
       "  <tbody>\n",
       "    <tr>\n",
       "      <th>0</th>\n",
       "      <td>1972</td>\n",
       "      <td>2015</td>\n",
       "      <td>12</td>\n",
       "      <td>Male</td>\n",
       "      <td>Location13</td>\n",
       "      <td>NaN</td>\n",
       "      <td>single</td>\n",
       "      <td>management</td>\n",
       "      <td>yes</td>\n",
       "      <td>624</td>\n",
       "      <td>0.00</td>\n",
       "      <td>2</td>\n",
       "      <td>1</td>\n",
       "      <td>1</td>\n",
       "      <td>62825.03</td>\n",
       "      <td>46</td>\n",
       "      <td>4</td>\n",
       "    </tr>\n",
       "    <tr>\n",
       "      <th>1</th>\n",
       "      <td>1990</td>\n",
       "      <td>2016</td>\n",
       "      <td>11</td>\n",
       "      <td>Female</td>\n",
       "      <td>Location11</td>\n",
       "      <td>primary</td>\n",
       "      <td>married</td>\n",
       "      <td>admin.</td>\n",
       "      <td>yes</td>\n",
       "      <td>777</td>\n",
       "      <td>134571.50</td>\n",
       "      <td>1</td>\n",
       "      <td>0</td>\n",
       "      <td>1</td>\n",
       "      <td>118313.38</td>\n",
       "      <td>28</td>\n",
       "      <td>3</td>\n",
       "    </tr>\n",
       "    <tr>\n",
       "      <th>2</th>\n",
       "      <td>1966</td>\n",
       "      <td>2011</td>\n",
       "      <td>10</td>\n",
       "      <td>Female</td>\n",
       "      <td>Location13</td>\n",
       "      <td>primary</td>\n",
       "      <td>married</td>\n",
       "      <td>admin.</td>\n",
       "      <td>yes</td>\n",
       "      <td>707</td>\n",
       "      <td>0.00</td>\n",
       "      <td>1</td>\n",
       "      <td>1</td>\n",
       "      <td>0</td>\n",
       "      <td>109688.82</td>\n",
       "      <td>52</td>\n",
       "      <td>8</td>\n",
       "    </tr>\n",
       "    <tr>\n",
       "      <th>3</th>\n",
       "      <td>1983</td>\n",
       "      <td>2016</td>\n",
       "      <td>7</td>\n",
       "      <td>Male</td>\n",
       "      <td>Location11</td>\n",
       "      <td>secondary</td>\n",
       "      <td>divorced</td>\n",
       "      <td>management</td>\n",
       "      <td>no</td>\n",
       "      <td>746</td>\n",
       "      <td>172274.01</td>\n",
       "      <td>1</td>\n",
       "      <td>1</td>\n",
       "      <td>0</td>\n",
       "      <td>22374.97</td>\n",
       "      <td>35</td>\n",
       "      <td>3</td>\n",
       "    </tr>\n",
       "    <tr>\n",
       "      <th>4</th>\n",
       "      <td>1983</td>\n",
       "      <td>2009</td>\n",
       "      <td>5</td>\n",
       "      <td>Male</td>\n",
       "      <td>Location11</td>\n",
       "      <td>tertiary</td>\n",
       "      <td>divorced</td>\n",
       "      <td>management</td>\n",
       "      <td>no</td>\n",
       "      <td>762</td>\n",
       "      <td>0.00</td>\n",
       "      <td>2</td>\n",
       "      <td>1</td>\n",
       "      <td>1</td>\n",
       "      <td>43075.70</td>\n",
       "      <td>35</td>\n",
       "      <td>10</td>\n",
       "    </tr>\n",
       "  </tbody>\n",
       "</table>\n",
       "</div>"
      ],
      "text/plain": [
       "   yearofBirth  yearofEntry  monthofEntry  ...     Salary Age yrsofassociation\n",
       "0         1972         2015            12  ...   62825.03  46                4\n",
       "1         1990         2016            11  ...  118313.38  28                3\n",
       "2         1966         2011            10  ...  109688.82  52                8\n",
       "3         1983         2016             7  ...   22374.97  35                3\n",
       "4         1983         2009             5  ...   43075.70  35               10\n",
       "\n",
       "[5 rows x 17 columns]"
      ]
     },
     "execution_count": 27,
     "metadata": {
      "tags": []
     },
     "output_type": "execute_result"
    }
   ],
   "source": [
    "test_data.head()"
   ]
  },
  {
   "cell_type": "code",
   "execution_count": 0,
   "metadata": {
    "colab": {},
    "colab_type": "code",
    "id": "JruHdMKT-6Rx"
   },
   "outputs": [],
   "source": [
    "train_data.drop([\"monthofEntry\"], axis = 1, inplace= True)\n",
    "test_data.drop([\"monthofEntry\"], axis = 1, inplace= True)"
   ]
  },
  {
   "cell_type": "code",
   "execution_count": 29,
   "metadata": {
    "colab": {
     "base_uri": "https://localhost:8080/",
     "height": 51
    },
    "colab_type": "code",
    "id": "6IyagaQ9_R5F",
    "outputId": "8869742f-2c58-460b-a038-5682529ec8f7"
   },
   "outputs": [
    {
     "name": "stdout",
     "output_type": "stream",
     "text": [
      "(7360, 17)\n",
      "(1840, 16)\n"
     ]
    }
   ],
   "source": [
    "print(train_data.shape)\n",
    "print(test_data.shape)"
   ]
  },
  {
   "cell_type": "code",
   "execution_count": 0,
   "metadata": {
    "colab": {},
    "colab_type": "code",
    "id": "x5oEoWm-_YLF"
   },
   "outputs": [],
   "source": [
    "train_data.drop([\"yearofBirth\",\"yearofEntry\"], axis = 1, inplace= True)\n",
    "test_data.drop([\"yearofBirth\",\"yearofEntry\"], axis = 1, inplace= True)"
   ]
  },
  {
   "cell_type": "code",
   "execution_count": 31,
   "metadata": {
    "colab": {
     "base_uri": "https://localhost:8080/",
     "height": 51
    },
    "colab_type": "code",
    "id": "EMUHrIwX_4LX",
    "outputId": "f4fea779-374b-4c45-e4e9-402cea360204"
   },
   "outputs": [
    {
     "name": "stdout",
     "output_type": "stream",
     "text": [
      "(7360, 15)\n",
      "(1840, 14)\n"
     ]
    }
   ],
   "source": [
    "print(train_data.shape)\n",
    "print(test_data.shape)"
   ]
  },
  {
   "cell_type": "code",
   "execution_count": 32,
   "metadata": {
    "colab": {
     "base_uri": "https://localhost:8080/",
     "height": 340
    },
    "colab_type": "code",
    "id": "jnAsOhi1BEsw",
    "outputId": "21954b8d-3279-4517-8182-43964ec859c4"
   },
   "outputs": [
    {
     "data": {
      "image/png": "[encoded data removed]",
      "text/plain": [
       "<Figure size 432x288 with 1 Axes>"
      ]
     },
     "metadata": {
      "tags": []
     },
     "output_type": "display_data"
    }
   ],
   "source": [
    "Employment=pd.crosstab(train_data['Occupation'],train_data['Churn']) \n",
    "Employment.plot.bar(stacked =True)\n",
    "plt.show()"
   ]
  },
  {
   "cell_type": "code",
   "execution_count": 33,
   "metadata": {
    "colab": {
     "base_uri": "https://localhost:8080/",
     "height": 136
    },
    "colab_type": "code",
    "id": "H-yjJ9U3C-Og",
    "outputId": "29d2589f-eb34-46a1-cdb1-08227cd55d6a"
   },
   "outputs": [
    {
     "data": {
      "text/plain": [
       "admin.           3207\n",
       "technician        770\n",
       "services          762\n",
       "management        749\n",
       "self-employed     748\n",
       "retired           343\n",
       "Name: Occupation, dtype: int64"
      ]
     },
     "execution_count": 33,
     "metadata": {
      "tags": []
     },
     "output_type": "execute_result"
    }
   ],
   "source": [
    "train_data.Occupation.value_counts()"
   ]
  },
  {
   "cell_type": "code",
   "execution_count": 34,
   "metadata": {
    "colab": {
     "base_uri": "https://localhost:8080/",
     "height": 303
    },
    "colab_type": "code",
    "id": "OSapkX7gDW3N",
    "outputId": "47ee2532-1bff-48e5-ff5b-5e09aeac1e4f"
   },
   "outputs": [
    {
     "data": {
      "text/html": [
       "<div>\n",
       "<style scoped>\n",
       "    .dataframe tbody tr th:only-of-type {\n",
       "        vertical-align: middle;\n",
       "    }\n",
       "\n",
       "    .dataframe tbody tr th {\n",
       "        vertical-align: top;\n",
       "    }\n",
       "\n",
       "    .dataframe thead th {\n",
       "        text-align: right;\n",
       "    }\n",
       "</style>\n",
       "<table border=\"1\" class=\"dataframe\">\n",
       "  <thead>\n",
       "    <tr style=\"text-align: right;\">\n",
       "      <th></th>\n",
       "      <th>CreditScore</th>\n",
       "      <th>AccountBalance</th>\n",
       "      <th>NumberOfProducts</th>\n",
       "      <th>IsCreditCardCustomer</th>\n",
       "      <th>ActiveMember</th>\n",
       "      <th>Salary</th>\n",
       "      <th>Churn</th>\n",
       "      <th>Age</th>\n",
       "      <th>yrsofassociation</th>\n",
       "    </tr>\n",
       "    <tr>\n",
       "      <th>Occupation</th>\n",
       "      <th></th>\n",
       "      <th></th>\n",
       "      <th></th>\n",
       "      <th></th>\n",
       "      <th></th>\n",
       "      <th></th>\n",
       "      <th></th>\n",
       "      <th></th>\n",
       "      <th></th>\n",
       "    </tr>\n",
       "  </thead>\n",
       "  <tbody>\n",
       "    <tr>\n",
       "      <th>admin.</th>\n",
       "      <td>650.516059</td>\n",
       "      <td>74840.869969</td>\n",
       "      <td>1.542251</td>\n",
       "      <td>0.704085</td>\n",
       "      <td>0.494855</td>\n",
       "      <td>100007.305525</td>\n",
       "      <td>0.242283</td>\n",
       "      <td>37.763954</td>\n",
       "      <td>5.980044</td>\n",
       "    </tr>\n",
       "    <tr>\n",
       "      <th>management</th>\n",
       "      <td>649.263017</td>\n",
       "      <td>76106.936155</td>\n",
       "      <td>1.515354</td>\n",
       "      <td>0.702270</td>\n",
       "      <td>0.502003</td>\n",
       "      <td>98709.202603</td>\n",
       "      <td>0.165554</td>\n",
       "      <td>37.485981</td>\n",
       "      <td>5.989319</td>\n",
       "    </tr>\n",
       "    <tr>\n",
       "      <th>retired</th>\n",
       "      <td>653.734694</td>\n",
       "      <td>74261.142216</td>\n",
       "      <td>1.507289</td>\n",
       "      <td>0.693878</td>\n",
       "      <td>0.816327</td>\n",
       "      <td>96608.470641</td>\n",
       "      <td>0.241983</td>\n",
       "      <td>67.635569</td>\n",
       "      <td>5.950437</td>\n",
       "    </tr>\n",
       "    <tr>\n",
       "      <th>self-employed</th>\n",
       "      <td>650.259358</td>\n",
       "      <td>74153.061203</td>\n",
       "      <td>1.504011</td>\n",
       "      <td>0.715241</td>\n",
       "      <td>0.520053</td>\n",
       "      <td>100770.023115</td>\n",
       "      <td>0.165775</td>\n",
       "      <td>37.192513</td>\n",
       "      <td>6.066845</td>\n",
       "    </tr>\n",
       "    <tr>\n",
       "      <th>services</th>\n",
       "      <td>654.715223</td>\n",
       "      <td>81612.304094</td>\n",
       "      <td>1.535433</td>\n",
       "      <td>0.699475</td>\n",
       "      <td>0.461942</td>\n",
       "      <td>100889.496614</td>\n",
       "      <td>0.171916</td>\n",
       "      <td>37.073491</td>\n",
       "      <td>6.072178</td>\n",
       "    </tr>\n",
       "    <tr>\n",
       "      <th>technician</th>\n",
       "      <td>649.462338</td>\n",
       "      <td>80977.663442</td>\n",
       "      <td>1.475325</td>\n",
       "      <td>0.689610</td>\n",
       "      <td>0.489610</td>\n",
       "      <td>99258.596221</td>\n",
       "      <td>0.149351</td>\n",
       "      <td>37.142857</td>\n",
       "      <td>6.003896</td>\n",
       "    </tr>\n",
       "  </tbody>\n",
       "</table>\n",
       "</div>"
      ],
      "text/plain": [
       "               CreditScore  AccountBalance  ...        Age  yrsofassociation\n",
       "Occupation                                  ...                             \n",
       "admin.          650.516059    74840.869969  ...  37.763954          5.980044\n",
       "management      649.263017    76106.936155  ...  37.485981          5.989319\n",
       "retired         653.734694    74261.142216  ...  67.635569          5.950437\n",
       "self-employed   650.259358    74153.061203  ...  37.192513          6.066845\n",
       "services        654.715223    81612.304094  ...  37.073491          6.072178\n",
       "technician      649.462338    80977.663442  ...  37.142857          6.003896\n",
       "\n",
       "[6 rows x 9 columns]"
      ]
     },
     "execution_count": 34,
     "metadata": {
      "tags": []
     },
     "output_type": "execute_result"
    }
   ],
   "source": [
    "train_data.groupby('Occupation').mean()"
   ]
  },
  {
   "cell_type": "code",
   "execution_count": 35,
   "metadata": {
    "colab": {
     "base_uri": "https://localhost:8080/",
     "height": 68
    },
    "colab_type": "code",
    "id": "BiPSEUfKDhaj",
    "outputId": "63a0211f-2b4d-4c68-a6b7-7c6db40c1320"
   },
   "outputs": [
    {
     "data": {
      "text/plain": [
       "Male      3994\n",
       "Female    3366\n",
       "Name: Gender, dtype: int64"
      ]
     },
     "execution_count": 35,
     "metadata": {
      "tags": []
     },
     "output_type": "execute_result"
    }
   ],
   "source": [
    "train_data.Gender.value_counts()"
   ]
  },
  {
   "cell_type": "code",
   "execution_count": 36,
   "metadata": {
    "colab": {
     "base_uri": "https://localhost:8080/",
     "height": 306
    },
    "colab_type": "code",
    "id": "t1v8JZZpEejS",
    "outputId": "1e029357-a67b-4021-c583-d1cbdf4879a4"
   },
   "outputs": [
    {
     "data": {
      "image/png": "[encoded data removed]",
      "text/plain": [
       "<Figure size 432x288 with 1 Axes>"
      ]
     },
     "metadata": {
      "tags": []
     },
     "output_type": "display_data"
    }
   ],
   "source": [
    "Gender=pd.crosstab(train_data['Gender'],train_data['Churn']) \n",
    "Gender.plot.bar(stacked =True)\n",
    "plt.show()"
   ]
  },
  {
   "cell_type": "code",
   "execution_count": 37,
   "metadata": {
    "colab": {
     "base_uri": "https://localhost:8080/",
     "height": 85
    },
    "colab_type": "code",
    "id": "G2lGoH_yGpVc",
    "outputId": "5184f29e-ec3c-4bca-9055-fd38b8c1f99b"
   },
   "outputs": [
    {
     "data": {
      "text/plain": [
       "single      0.347690\n",
       "married     0.340082\n",
       "divorced    0.312228\n",
       "Name: MaritalStatus, dtype: float64"
      ]
     },
     "execution_count": 37,
     "metadata": {
      "tags": []
     },
     "output_type": "execute_result"
    }
   ],
   "source": [
    "train_data.MaritalStatus.value_counts(normalize=True)"
   ]
  },
  {
   "cell_type": "code",
   "execution_count": 38,
   "metadata": {
    "colab": {
     "base_uri": "https://localhost:8080/",
     "height": 398
    },
    "colab_type": "code",
    "id": "4gcuMPpeFTzT",
    "outputId": "fb43314f-f8bf-4aee-e541-1b73009c3618"
   },
   "outputs": [
    {
     "name": "stdout",
     "output_type": "stream",
     "text": [
      "Churn             0    1\n",
      "MaritalStatus           \n",
      "divorced       1819  479\n",
      "married        2024  479\n",
      "single         2025  534\n"
     ]
    },
    {
     "data": {
      "image/png": "[encoded data removed]",
      "text/plain": [
       "<Figure size 432x288 with 1 Axes>"
      ]
     },
     "metadata": {
      "tags": []
     },
     "output_type": "display_data"
    }
   ],
   "source": [
    "Married=pd.crosstab(train_data['MaritalStatus'],train_data['Churn']) \n",
    "print(Married)\n",
    "Married.plot.bar(stacked =True)\n",
    "plt.show()\n"
   ]
  },
  {
   "cell_type": "code",
   "execution_count": 39,
   "metadata": {
    "colab": {
     "base_uri": "https://localhost:8080/",
     "height": 293
    },
    "colab_type": "code",
    "id": "u-S0e_gZGHnk",
    "outputId": "4e84768f-603f-4091-9846-ccb5fae0bcf6"
   },
   "outputs": [
    {
     "data": {
      "text/plain": [
       "<matplotlib.axes._subplots.AxesSubplot at 0x7f825305e550>"
      ]
     },
     "execution_count": 39,
     "metadata": {
      "tags": []
     },
     "output_type": "execute_result"
    },
    {
     "data": {
      "image/png": "[encoded data removed]",
      "text/plain": [
       "<Figure size 432x288 with 1 Axes>"
      ]
     },
     "metadata": {
      "tags": []
     },
     "output_type": "display_data"
    }
   ],
   "source": [
    "train_data.groupby('Churn')['Salary'].mean().plot.bar()"
   ]
  },
  {
   "cell_type": "markdown",
   "metadata": {
    "colab_type": "text",
    "id": "PFMG8cfUfd8D"
   },
   "source": [
    "Checking whether there is any difference in Churn with Salary"
   ]
  },
  {
   "cell_type": "markdown",
   "metadata": {
    "colab_type": "text",
    "id": "BCUpooEAfreX"
   },
   "source": [
    "Checking Outliers"
   ]
  },
  {
   "cell_type": "code",
   "execution_count": 40,
   "metadata": {
    "colab": {
     "base_uri": "https://localhost:8080/",
     "height": 282
    },
    "colab_type": "code",
    "id": "pU-F2Y3RNXwE",
    "outputId": "371616c9-0033-46fd-aace-bff8546e4260"
   },
   "outputs": [
    {
     "data": {
      "text/plain": [
       "Text(0.5, 0.98, '')"
      ]
     },
     "execution_count": 40,
     "metadata": {
      "tags": []
     },
     "output_type": "execute_result"
    },
    {
     "data": {
      "image/png": "[encoded data removed]",
      "text/plain": [
       "<Figure size 432x288 with 1 Axes>"
      ]
     },
     "metadata": {
      "tags": []
     },
     "output_type": "display_data"
    }
   ],
   "source": [
    "train_data.boxplot('CreditScore') \n",
    "plt.suptitle(\"\")"
   ]
  },
  {
   "cell_type": "markdown",
   "metadata": {
    "colab_type": "text",
    "id": "I9l0l5CpfvgE"
   },
   "source": [
    "Finding ZScore to remove outliers"
   ]
  },
  {
   "cell_type": "code",
   "execution_count": 41,
   "metadata": {
    "colab": {
     "base_uri": "https://localhost:8080/",
     "height": 34
    },
    "colab_type": "code",
    "id": "BOmQJtzgHYXX",
    "outputId": "39253dcb-2c44-45b0-e6b5-1e7ae49bd966"
   },
   "outputs": [
    {
     "name": "stdout",
     "output_type": "stream",
     "text": [
      "[0.67537648 0.85413918 0.91307148 ... 1.56722419 0.35500496 1.25411214]\n"
     ]
    }
   ],
   "source": [
    "from scipy import stats\n",
    "import numpy as np\n",
    "zscore = np.abs(stats.zscore(train_data[\"CreditScore\"]))\n",
    "print(zscore)"
   ]
  },
  {
   "cell_type": "code",
   "execution_count": 0,
   "metadata": {
    "colab": {},
    "colab_type": "code",
    "id": "4dEtXh5yImOf"
   },
   "outputs": [],
   "source": [
    "z_new = [] \n",
    "def remove_outlier(data):\n",
    "    for i in data.columns:\n",
    "        z = np.abs(stats.zscore(data[i]))\n",
    "        z_new = z_new.append(z)"
   ]
  },
  {
   "cell_type": "code",
   "execution_count": 43,
   "metadata": {
    "colab": {
     "base_uri": "https://localhost:8080/",
     "height": 51
    },
    "colab_type": "code",
    "id": "2sCe5dgIMqAX",
    "outputId": "7b4ca29d-0b53-44a8-8377-04a438eb6f2c"
   },
   "outputs": [
    {
     "name": "stdout",
     "output_type": "stream",
     "text": [
      "(array([  38, 1482, 1913, 2934, 3626, 4204, 5055, 5212, 5521, 5584, 6806,\n",
      "       6982]),)\n"
     ]
    }
   ],
   "source": [
    "threshold = 2.58\n",
    "print(np.where(zscore >2.58 ))"
   ]
  },
  {
   "cell_type": "code",
   "execution_count": 0,
   "metadata": {
    "colab": {},
    "colab_type": "code",
    "id": "wIJH0JOmMwul"
   },
   "outputs": [],
   "source": [
    "creditscore_zscores = list(np.where(zscore > 2.58))"
   ]
  },
  {
   "cell_type": "markdown",
   "metadata": {
    "colab_type": "text",
    "id": "85OGZ6Z_Y73w"
   },
   "source": [
    "Selecting Data without Outliers"
   ]
  },
  {
   "cell_type": "code",
   "execution_count": 0,
   "metadata": {
    "colab": {},
    "colab_type": "code",
    "id": "Psd3lF09OFTE"
   },
   "outputs": [],
   "source": [
    "train_datawithoutoutliers = train_data[(zscore < 2.58)]"
   ]
  },
  {
   "cell_type": "code",
   "execution_count": 46,
   "metadata": {
    "colab": {
     "base_uri": "https://localhost:8080/",
     "height": 34
    },
    "colab_type": "code",
    "id": "OcQrON9COz_O",
    "outputId": "e3d27cfa-88bc-4759-dbcf-17dfb225cac4"
   },
   "outputs": [
    {
     "data": {
      "text/plain": [
       "(7348, 15)"
      ]
     },
     "execution_count": 46,
     "metadata": {
      "tags": []
     },
     "output_type": "execute_result"
    }
   ],
   "source": [
    "train_datawithoutoutliers.shape"
   ]
  },
  {
   "cell_type": "code",
   "execution_count": 0,
   "metadata": {
    "colab": {},
    "colab_type": "code",
    "id": "H1z1ZeP3O46j"
   },
   "outputs": [],
   "source": [
    "train_datanew = train_datawithoutoutliers"
   ]
  },
  {
   "cell_type": "code",
   "execution_count": 48,
   "metadata": {
    "colab": {
     "base_uri": "https://localhost:8080/",
     "height": 289
    },
    "colab_type": "code",
    "id": "48OhGyU8QDtU",
    "outputId": "59194383-7815-4acc-ba50-1aa3efc32691"
   },
   "outputs": [
    {
     "data": {
      "text/plain": [
       "Gender                   object\n",
       "Location                 object\n",
       "Education                object\n",
       "MaritalStatus            object\n",
       "Occupation               object\n",
       "Ownhouse                 object\n",
       "CreditScore               int64\n",
       "AccountBalance          float64\n",
       "NumberOfProducts          int64\n",
       "IsCreditCardCustomer      int64\n",
       "ActiveMember              int64\n",
       "Salary                  float64\n",
       "Churn                     int64\n",
       "Age                       int64\n",
       "yrsofassociation          int64\n",
       "dtype: object"
      ]
     },
     "execution_count": 48,
     "metadata": {
      "tags": []
     },
     "output_type": "execute_result"
    }
   ],
   "source": [
    "train_datanew.dtypes"
   ]
  },
  {
   "cell_type": "markdown",
   "metadata": {
    "colab_type": "text",
    "id": "tmatCMCKf4-R"
   },
   "source": [
    "Converting Object into Columns"
   ]
  },
  {
   "cell_type": "code",
   "execution_count": 0,
   "metadata": {
    "colab": {},
    "colab_type": "code",
    "id": "tYEx8fRvPAnq"
   },
   "outputs": [],
   "source": [
    "for col in ['Gender', 'Location', 'Education', 'MaritalStatus', 'Occupation', \n",
    "            'Ownhouse', 'IsCreditCardCustomer', 'ActiveMember', 'Churn']:\n",
    "      train_datanew[col] = train_datanew[col].astype('category')"
   ]
  },
  {
   "cell_type": "code",
   "execution_count": 0,
   "metadata": {
    "colab": {},
    "colab_type": "code",
    "id": "AFWH5j9SPe-L"
   },
   "outputs": [],
   "source": [
    "for col in ['Gender', 'Location', 'Education', 'MaritalStatus', 'Occupation', \n",
    "            'Ownhouse', 'IsCreditCardCustomer', 'ActiveMember']:\n",
    "      test_data[col] = test_data[col].astype('category')"
   ]
  },
  {
   "cell_type": "code",
   "execution_count": 51,
   "metadata": {
    "colab": {
     "base_uri": "https://localhost:8080/",
     "height": 289
    },
    "colab_type": "code",
    "id": "SsQErZ4SRRMu",
    "outputId": "d2c6e3e2-87e0-4d48-8a40-8f72340d2d25"
   },
   "outputs": [
    {
     "data": {
      "text/plain": [
       "Gender                  category\n",
       "Location                category\n",
       "Education               category\n",
       "MaritalStatus           category\n",
       "Occupation              category\n",
       "Ownhouse                category\n",
       "CreditScore                int64\n",
       "AccountBalance           float64\n",
       "NumberOfProducts           int64\n",
       "IsCreditCardCustomer    category\n",
       "ActiveMember            category\n",
       "Salary                   float64\n",
       "Churn                   category\n",
       "Age                        int64\n",
       "yrsofassociation           int64\n",
       "dtype: object"
      ]
     },
     "execution_count": 51,
     "metadata": {
      "tags": []
     },
     "output_type": "execute_result"
    }
   ],
   "source": [
    "train_datanew.dtypes"
   ]
  },
  {
   "cell_type": "code",
   "execution_count": 0,
   "metadata": {
    "colab": {},
    "colab_type": "code",
    "id": "JHV1fjIUQ3VQ"
   },
   "outputs": [],
   "source": [
    "cat_attr = list(train_datanew.select_dtypes(\"category\").columns)\n",
    "num_attr = list(train_datanew.columns.difference(cat_attr))\n"
   ]
  },
  {
   "cell_type": "code",
   "execution_count": 53,
   "metadata": {
    "colab": {
     "base_uri": "https://localhost:8080/",
     "height": 170
    },
    "colab_type": "code",
    "id": "j4Txiiq-RsdB",
    "outputId": "a8585893-722f-40d2-ec64-d64f44ebf918"
   },
   "outputs": [
    {
     "data": {
      "text/plain": [
       "['Gender',\n",
       " 'Location',\n",
       " 'Education',\n",
       " 'MaritalStatus',\n",
       " 'Occupation',\n",
       " 'Ownhouse',\n",
       " 'IsCreditCardCustomer',\n",
       " 'ActiveMember',\n",
       " 'Churn']"
      ]
     },
     "execution_count": 53,
     "metadata": {
      "tags": []
     },
     "output_type": "execute_result"
    }
   ],
   "source": [
    "cat_attr"
   ]
  },
  {
   "cell_type": "code",
   "execution_count": 54,
   "metadata": {
    "colab": {
     "base_uri": "https://localhost:8080/",
     "height": 34
    },
    "colab_type": "code",
    "id": "LvMva8BmRvKV",
    "outputId": "10810584-3720-4289-c43e-2680093ced54"
   },
   "outputs": [
    {
     "data": {
      "text/plain": [
       "'Churn'"
      ]
     },
     "execution_count": 54,
     "metadata": {
      "tags": []
     },
     "output_type": "execute_result"
    }
   ],
   "source": [
    "cat_attr.pop()"
   ]
  },
  {
   "cell_type": "markdown",
   "metadata": {
    "colab_type": "text",
    "id": "BxL3GfnuZG7n"
   },
   "source": [
    "Pipeline and Model Building"
   ]
  },
  {
   "cell_type": "code",
   "execution_count": 0,
   "metadata": {
    "colab": {},
    "colab_type": "code",
    "id": "2TuWj5HoR5aD"
   },
   "outputs": [],
   "source": [
    "numeric_transformer = Pipeline(steps=[\n",
    "    ('imputer', SimpleImputer(strategy='median')),\n",
    "    ('scaler', StandardScaler())])\n",
    "\n",
    "\n",
    "\n",
    "categorical_transformer = Pipeline(steps=[\n",
    "    ('imputer', SimpleImputer(strategy='most_frequent',fill_value=\"missing_value\")),\n",
    "    ('onehot', OneHotEncoder(handle_unknown='ignore'))])\n",
    "\n",
    "preprocessor = ColumnTransformer(\n",
    "    transformers=[\n",
    "        ('num', numeric_transformer, num_attr),\n",
    "        ('cat', categorical_transformer, cat_attr)])"
   ]
  },
  {
   "cell_type": "markdown",
   "metadata": {
    "colab_type": "text",
    "id": "wVRtYKnfZMn5"
   },
   "source": [
    "Model1 - Logistic Regression"
   ]
  },
  {
   "cell_type": "code",
   "execution_count": 0,
   "metadata": {
    "colab": {},
    "colab_type": "code",
    "id": "Sg5ZKflPSG_X"
   },
   "outputs": [],
   "source": [
    "logreg = Pipeline(steps=[('preprocessor', preprocessor),\n",
    "                      ('classifier', LogisticRegression())])"
   ]
  },
  {
   "cell_type": "code",
   "execution_count": 0,
   "metadata": {
    "colab": {},
    "colab_type": "code",
    "id": "HGn1qf-SSL82"
   },
   "outputs": [],
   "source": [
    "X=train_datanew.drop(\"Churn\",axis=1)\n",
    "y=pd.DataFrame(train_datanew['Churn'])"
   ]
  },
  {
   "cell_type": "code",
   "execution_count": 0,
   "metadata": {
    "colab": {},
    "colab_type": "code",
    "id": "3cNu1dkISjR8"
   },
   "outputs": [],
   "source": [
    "X_train, X_test, y_train, y_test = train_test_split(X, y, test_size=0.30,random_state=123) "
   ]
  },
  {
   "cell_type": "code",
   "execution_count": 59,
   "metadata": {
    "colab": {
     "base_uri": "https://localhost:8080/",
     "height": 100
    },
    "colab_type": "code",
    "id": "_qAAaohQSspj",
    "outputId": "cf12d0ae-3773-41cd-c373-9f1a6abbc3c6"
   },
   "outputs": [
    {
     "data": {
      "text/html": [
       "<div>\n",
       "<style scoped>\n",
       "    .dataframe tbody tr th:only-of-type {\n",
       "        vertical-align: middle;\n",
       "    }\n",
       "\n",
       "    .dataframe tbody tr th {\n",
       "        vertical-align: top;\n",
       "    }\n",
       "\n",
       "    .dataframe thead th {\n",
       "        text-align: right;\n",
       "    }\n",
       "</style>\n",
       "<table border=\"1\" class=\"dataframe\">\n",
       "  <thead>\n",
       "    <tr style=\"text-align: right;\">\n",
       "      <th></th>\n",
       "      <th>Gender</th>\n",
       "      <th>Location</th>\n",
       "      <th>Education</th>\n",
       "      <th>MaritalStatus</th>\n",
       "      <th>Occupation</th>\n",
       "      <th>Ownhouse</th>\n",
       "      <th>CreditScore</th>\n",
       "      <th>AccountBalance</th>\n",
       "      <th>NumberOfProducts</th>\n",
       "      <th>IsCreditCardCustomer</th>\n",
       "      <th>ActiveMember</th>\n",
       "      <th>Salary</th>\n",
       "      <th>Age</th>\n",
       "      <th>yrsofassociation</th>\n",
       "    </tr>\n",
       "  </thead>\n",
       "  <tbody>\n",
       "    <tr>\n",
       "      <th>4515</th>\n",
       "      <td>Female</td>\n",
       "      <td>Location13</td>\n",
       "      <td>tertiary</td>\n",
       "      <td>divorced</td>\n",
       "      <td>retired</td>\n",
       "      <td>no</td>\n",
       "      <td>580</td>\n",
       "      <td>0.0</td>\n",
       "      <td>2</td>\n",
       "      <td>0</td>\n",
       "      <td>1</td>\n",
       "      <td>103182.46</td>\n",
       "      <td>65</td>\n",
       "      <td>2</td>\n",
       "    </tr>\n",
       "  </tbody>\n",
       "</table>\n",
       "</div>"
      ],
      "text/plain": [
       "      Gender    Location Education  ...     Salary Age yrsofassociation\n",
       "4515  Female  Location13  tertiary  ...  103182.46  65                2\n",
       "\n",
       "[1 rows x 14 columns]"
      ]
     },
     "execution_count": 59,
     "metadata": {
      "tags": []
     },
     "output_type": "execute_result"
    }
   ],
   "source": [
    "X_train.head(1)"
   ]
  },
  {
   "cell_type": "code",
   "execution_count": 60,
   "metadata": {
    "colab": {
     "base_uri": "https://localhost:8080/",
     "height": 544
    },
    "colab_type": "code",
    "id": "A3LsrcZ_TKfs",
    "outputId": "95700f64-e9ef-439e-f65a-b32da1fd2bf8"
   },
   "outputs": [
    {
     "data": {
      "text/plain": [
       "Pipeline(memory=None,\n",
       "         steps=[('preprocessor',\n",
       "                 ColumnTransformer(n_jobs=None, remainder='drop',\n",
       "                                   sparse_threshold=0.3,\n",
       "                                   transformer_weights=None,\n",
       "                                   transformers=[('num',\n",
       "                                                  Pipeline(memory=None,\n",
       "                                                           steps=[('imputer',\n",
       "                                                                   SimpleImputer(add_indicator=False,\n",
       "                                                                                 copy=True,\n",
       "                                                                                 fill_value=None,\n",
       "                                                                                 missing_values=nan,\n",
       "                                                                                 strategy='median',\n",
       "                                                                                 verbose=0)),\n",
       "                                                                  ('scaler',\n",
       "                                                                   StandardScaler(copy=True,\n",
       "                                                                                  with_mean...\n",
       "                                                   'Education', 'MaritalStatus',\n",
       "                                                   'Occupation', 'Ownhouse',\n",
       "                                                   'IsCreditCardCustomer',\n",
       "                                                   'ActiveMember'])],\n",
       "                                   verbose=False)),\n",
       "                ('classifier',\n",
       "                 LogisticRegression(C=1.0, class_weight=None, dual=False,\n",
       "                                    fit_intercept=True, intercept_scaling=1,\n",
       "                                    l1_ratio=None, max_iter=100,\n",
       "                                    multi_class='warn', n_jobs=None,\n",
       "                                    penalty='l2', random_state=None,\n",
       "                                    solver='warn', tol=0.0001, verbose=0,\n",
       "                                    warm_start=False))],\n",
       "         verbose=False)"
      ]
     },
     "execution_count": 60,
     "metadata": {
      "tags": []
     },
     "output_type": "execute_result"
    }
   ],
   "source": [
    "logreg.fit(X_train, y_train)"
   ]
  },
  {
   "cell_type": "code",
   "execution_count": 0,
   "metadata": {
    "colab": {},
    "colab_type": "code",
    "id": "ClO9pkFES66t"
   },
   "outputs": [],
   "source": [
    "train_pred = logreg.predict(X_train)\n",
    "test_pred = logreg.predict(X_test)"
   ]
  },
  {
   "cell_type": "code",
   "execution_count": 0,
   "metadata": {
    "colab": {},
    "colab_type": "code",
    "id": "X__t7SDYTl53"
   },
   "outputs": [],
   "source": [
    "from sklearn.metrics import accuracy_score,classification_report, recall_score, precision_score,confusion_matrix"
   ]
  },
  {
   "cell_type": "code",
   "execution_count": 63,
   "metadata": {
    "colab": {
     "base_uri": "https://localhost:8080/",
     "height": 187
    },
    "colab_type": "code",
    "id": "k-C2swjAT-BF",
    "outputId": "c83c13de-1d1e-46ef-f239-eeefd4538f27"
   },
   "outputs": [
    {
     "name": "stdout",
     "output_type": "stream",
     "text": [
      "0.8272108843537415\n",
      "              precision    recall  f1-score   support\n",
      "\n",
      "           0       0.84      0.97      0.90      1760\n",
      "           1       0.70      0.26      0.37       445\n",
      "\n",
      "    accuracy                           0.83      2205\n",
      "   macro avg       0.77      0.61      0.64      2205\n",
      "weighted avg       0.81      0.83      0.79      2205\n",
      "\n"
     ]
    }
   ],
   "source": [
    "print(accuracy_score(y_test,test_pred))\n",
    "print(classification_report(y_test,test_pred))"
   ]
  },
  {
   "cell_type": "code",
   "execution_count": 64,
   "metadata": {
    "colab": {
     "base_uri": "https://localhost:8080/",
     "height": 51
    },
    "colab_type": "code",
    "id": "XevYj_d5Ufrl",
    "outputId": "1d541026-38f6-4db9-b5a2-b310301b892d"
   },
   "outputs": [
    {
     "name": "stdout",
     "output_type": "stream",
     "text": [
      "[[1710   50]\n",
      " [ 331  114]]\n"
     ]
    }
   ],
   "source": [
    "print(confusion_matrix(y_test, test_pred))"
   ]
  },
  {
   "cell_type": "code",
   "execution_count": 65,
   "metadata": {
    "colab": {
     "base_uri": "https://localhost:8080/",
     "height": 68
    },
    "colab_type": "code",
    "id": "j025Jy3KV4rV",
    "outputId": "580be141-01e1-4158-aea1-673003221c9d"
   },
   "outputs": [
    {
     "name": "stdout",
     "output_type": "stream",
     "text": [
      "0.8272108843537415\n",
      "0.6951219512195121\n",
      "0.25617977528089886\n"
     ]
    }
   ],
   "source": [
    "print(accuracy_score(y_test,test_pred))\n",
    "print(precision_score(y_test,test_pred))\n",
    "print(recall_score(y_test,test_pred))"
   ]
  },
  {
   "cell_type": "code",
   "execution_count": 0,
   "metadata": {
    "colab": {},
    "colab_type": "code",
    "id": "yE7eLsZbUYpb"
   },
   "outputs": [],
   "source": [
    "from sklearn.metrics import f1_score"
   ]
  },
  {
   "cell_type": "code",
   "execution_count": 67,
   "metadata": {
    "colab": {
     "base_uri": "https://localhost:8080/",
     "height": 34
    },
    "colab_type": "code",
    "id": "jmKEHQj4ay6-",
    "outputId": "86cca988-6339-4d49-a12f-c854280e1959"
   },
   "outputs": [
    {
     "name": "stdout",
     "output_type": "stream",
     "text": [
      "0.37438423645320196\n"
     ]
    }
   ],
   "source": [
    "print(f1_score(y_test,test_pred))"
   ]
  },
  {
   "cell_type": "code",
   "execution_count": 0,
   "metadata": {
    "colab": {},
    "colab_type": "code",
    "id": "HoAvdTJKa24O"
   },
   "outputs": [],
   "source": [
    "prob=logreg.predict_proba(X_test)\n",
    "prob = prob[:,1]"
   ]
  },
  {
   "cell_type": "markdown",
   "metadata": {
    "colab_type": "text",
    "id": "Zse8uzb6aDoY"
   },
   "source": [
    "ROC-AUC Curve"
   ]
  },
  {
   "cell_type": "code",
   "execution_count": 0,
   "metadata": {
    "colab": {},
    "colab_type": "code",
    "id": "KBtmowpQb2J5"
   },
   "outputs": [],
   "source": [
    "from sklearn.metrics import auc,roc_curve"
   ]
  },
  {
   "cell_type": "code",
   "execution_count": 70,
   "metadata": {
    "colab": {
     "base_uri": "https://localhost:8080/",
     "height": 513
    },
    "colab_type": "code",
    "id": "9OLIUezxbnXT",
    "outputId": "793c015e-9b0d-476e-b3df-352dfe2c1ec2"
   },
   "outputs": [
    {
     "data": {
      "image/png": "[encoded data removed]",
      "text/plain": [
       "<Figure size 720x576 with 1 Axes>"
      ]
     },
     "metadata": {
      "tags": []
     },
     "output_type": "display_data"
    }
   ],
   "source": [
    "fpr,tpr,_ = roc_curve(y_test, prob)\n",
    "roc_auc = auc(fpr, tpr)\n",
    "plt.figure(figsize=(10,8))\n",
    "plt.title('Receiver Operating Characteristic')\n",
    "sns.lineplot(fpr, tpr, label = 'AUC = %0.2f' % roc_auc)\n",
    "plt.legend(loc = 'lower right')\n",
    "plt.plot([0, 1], [0, 1],'r--')\n",
    "plt.ylabel('True Positive Rate')\n",
    "plt.xlabel('False Positive Rate')\n",
    "plt.show()"
   ]
  },
  {
   "cell_type": "code",
   "execution_count": 71,
   "metadata": {
    "colab": {
     "base_uri": "https://localhost:8080/",
     "height": 170
    },
    "colab_type": "code",
    "id": "IGS4WYY2bu1n",
    "outputId": "c216b6fa-4ec2-4cdb-95d4-eebe72b9c918"
   },
   "outputs": [
    {
     "name": "stdout",
     "output_type": "stream",
     "text": [
      "              precision    recall  f1-score   support\n",
      "\n",
      "           0       0.84      0.97      0.90      4108\n",
      "           1       0.67      0.26      0.37      1035\n",
      "\n",
      "    accuracy                           0.83      5143\n",
      "   macro avg       0.75      0.61      0.64      5143\n",
      "weighted avg       0.80      0.83      0.79      5143\n",
      "\n"
     ]
    }
   ],
   "source": [
    "print(classification_report(y_train,train_pred))"
   ]
  },
  {
   "cell_type": "markdown",
   "metadata": {
    "colab_type": "text",
    "id": "IdTCsL42pWJO"
   },
   "source": [
    "Decision Tree"
   ]
  },
  {
   "cell_type": "code",
   "execution_count": 72,
   "metadata": {
    "colab": {
     "base_uri": "https://localhost:8080/",
     "height": 530
    },
    "colab_type": "code",
    "id": "x4Ki-J7Tp2ht",
    "outputId": "fcd46dd8-f204-40f6-c46c-aed243d5d41b"
   },
   "outputs": [
    {
     "data": {
      "text/plain": [
       "RandomizedSearchCV(cv=10, error_score='raise-deprecating',\n",
       "                   estimator=Pipeline(memory=None,\n",
       "                                      steps=[('preprocessor',\n",
       "                                              ColumnTransformer(n_jobs=None,\n",
       "                                                                remainder='drop',\n",
       "                                                                sparse_threshold=0.3,\n",
       "                                                                transformer_weights=None,\n",
       "                                                                transformers=[('num',\n",
       "                                                                               Pipeline(memory=None,\n",
       "                                                                                        steps=[('imputer',\n",
       "                                                                                                SimpleImputer(add_indicator=False,\n",
       "                                                                                                              copy=True,\n",
       "                                                                                                              fill_value=None,\n",
       "                                                                                                              missing_values=nan,\n",
       "                                                                                                              strateg...\n",
       "                   iid='warn', n_iter=10, n_jobs=None,\n",
       "                   param_distributions={'classifier__criterion': ['gini',\n",
       "                                                                  'entropy'],\n",
       "                                        'classifier__max_depth': [None, 2, 5,\n",
       "                                                                  10],\n",
       "                                        'classifier__max_leaf_nodes': [None, 5,\n",
       "                                                                       10, 20],\n",
       "                                        'classifier__min_samples_leaf': [1, 5,\n",
       "                                                                         10],\n",
       "                                        'classifier__min_samples_split': [2, 10,\n",
       "                                                                          15,\n",
       "                                                                          20]},\n",
       "                   pre_dispatch='2*n_jobs', random_state=None, refit=True,\n",
       "                   return_train_score=False, scoring=None, verbose=0)"
      ]
     },
     "execution_count": 72,
     "metadata": {
      "tags": []
     },
     "output_type": "execute_result"
    }
   ],
   "source": [
    "from sklearn import tree\n",
    "clf_dtree = Pipeline(steps=[('preprocessor', preprocessor),('classifier', tree.DecisionTreeClassifier())])\n",
    "param_grid = {\"classifier__criterion\": [\"gini\", \"entropy\"],\n",
    "              \"classifier__min_samples_split\": [2, 10,15,20],\n",
    "              \"classifier__max_depth\": [None, 2, 5, 10],\n",
    "              \"classifier__min_samples_leaf\": [1, 5, 10],\n",
    "              \"classifier__max_leaf_nodes\": [None, 5, 10, 20],\n",
    "              }\n",
    "clf_dtreeRandom =  RandomizedSearchCV(clf_dtree,param_distributions=param_grid,cv=10)\n",
    "clf_dtreeRandom.fit(X=X_train, y=y_train)   "
   ]
  },
  {
   "cell_type": "code",
   "execution_count": 0,
   "metadata": {
    "colab": {},
    "colab_type": "code",
    "id": "iU_JgAJ5sGUl"
   },
   "outputs": [],
   "source": [
    "train_preddtr = clf_dtreeRandom.predict(X_train)\n",
    "test_preddtr = clf_dtreeRandom.predict(X_test)"
   ]
  },
  {
   "cell_type": "code",
   "execution_count": 74,
   "metadata": {
    "colab": {
     "base_uri": "https://localhost:8080/",
     "height": 170
    },
    "colab_type": "code",
    "id": "OGx8VeR8sTrh",
    "outputId": "b77b2839-f4c4-4bfa-eaec-beb3f6d79f68"
   },
   "outputs": [
    {
     "name": "stdout",
     "output_type": "stream",
     "text": [
      "              precision    recall  f1-score   support\n",
      "\n",
      "           0       0.87      0.97      0.92      1760\n",
      "           1       0.80      0.40      0.53       445\n",
      "\n",
      "    accuracy                           0.86      2205\n",
      "   macro avg       0.83      0.69      0.73      2205\n",
      "weighted avg       0.85      0.86      0.84      2205\n",
      "\n"
     ]
    }
   ],
   "source": [
    "print(classification_report(y_test,test_preddtr))"
   ]
  },
  {
   "cell_type": "markdown",
   "metadata": {
    "colab_type": "text",
    "id": "68zRu6l5aeiV"
   },
   "source": [
    "Decision Tree Classifier"
   ]
  },
  {
   "cell_type": "code",
   "execution_count": 76,
   "metadata": {
    "colab": {
     "base_uri": "https://localhost:8080/",
     "height": 462
    },
    "colab_type": "code",
    "id": "irxgYRYfst_A",
    "outputId": "fb3efbd7-4749-42f2-ac0c-43258bedbb86"
   },
   "outputs": [
    {
     "data": {
      "text/plain": [
       "GridSearchCV(cv=10, error_score='raise-deprecating',\n",
       "             estimator=Pipeline(memory=None,\n",
       "                                steps=[('preprocessor',\n",
       "                                        ColumnTransformer(n_jobs=None,\n",
       "                                                          remainder='drop',\n",
       "                                                          sparse_threshold=0.3,\n",
       "                                                          transformer_weights=None,\n",
       "                                                          transformers=[('num',\n",
       "                                                                         Pipeline(memory=None,\n",
       "                                                                                  steps=[('imputer',\n",
       "                                                                                          SimpleImputer(add_indicator=False,\n",
       "                                                                                                        copy=True,\n",
       "                                                                                                        fill_value=None,\n",
       "                                                                                                        missing_values=nan,\n",
       "                                                                                                        strategy='med...\n",
       "                                                               splitter='best'))],\n",
       "                                verbose=False),\n",
       "             iid='warn', n_jobs=None,\n",
       "             param_grid={'classifier__criterion': ['gini', 'entropy'],\n",
       "                         'classifier__max_depth': [None, 2, 5, 10],\n",
       "                         'classifier__max_leaf_nodes': [None, 5, 10, 20],\n",
       "                         'classifier__min_samples_leaf': [1, 5, 10],\n",
       "                         'classifier__min_samples_split': [2, 10, 15, 20]},\n",
       "             pre_dispatch='2*n_jobs', refit=True, return_train_score=False,\n",
       "             scoring=None, verbose=0)"
      ]
     },
     "execution_count": 76,
     "metadata": {
      "tags": []
     },
     "output_type": "execute_result"
    }
   ],
   "source": [
    "clf_dgtree = Pipeline(steps=[('preprocessor', preprocessor),('classifier', tree.DecisionTreeClassifier())])\n",
    "rfc_param_grid = {\"classifier__criterion\": [\"gini\", \"entropy\"],\n",
    "              \"classifier__min_samples_split\": [2, 10,15,20],\n",
    "              \"classifier__max_depth\": [None, 2, 5, 10],\n",
    "              \"classifier__min_samples_leaf\": [1, 5, 10],\n",
    "              \"classifier__max_leaf_nodes\": [None, 5, 10, 20],\n",
    "              }\n",
    "clf_dtreegrid =  GridSearchCV(clf_dgtree,param_grid=rfc_param_grid,cv=10)\n",
    "clf_dtreegrid.fit(X_train, y_train)"
   ]
  },
  {
   "cell_type": "code",
   "execution_count": 0,
   "metadata": {
    "colab": {},
    "colab_type": "code",
    "id": "vnWpM4vptgxo"
   },
   "outputs": [],
   "source": [
    "train_preddtg = clf_dtreegrid.predict(X_train)\n",
    "test_preddtg = clf_dtreegrid.predict(X_test)"
   ]
  },
  {
   "cell_type": "code",
   "execution_count": 79,
   "metadata": {
    "colab": {
     "base_uri": "https://localhost:8080/",
     "height": 170
    },
    "colab_type": "code",
    "id": "gfZqBp0Ww60S",
    "outputId": "21bbc308-71fc-4744-bb1f-01cf79ee197c"
   },
   "outputs": [
    {
     "name": "stdout",
     "output_type": "stream",
     "text": [
      "              precision    recall  f1-score   support\n",
      "\n",
      "           0       0.87      0.97      0.92      1760\n",
      "           1       0.80      0.40      0.53       445\n",
      "\n",
      "    accuracy                           0.86      2205\n",
      "   macro avg       0.83      0.69      0.73      2205\n",
      "weighted avg       0.85      0.86      0.84      2205\n",
      "\n"
     ]
    }
   ],
   "source": [
    "print(classification_report(y_test,test_preddtg))"
   ]
  },
  {
   "cell_type": "code",
   "execution_count": 0,
   "metadata": {
    "colab": {},
    "colab_type": "code",
    "id": "-NUDKy_lxrrX"
   },
   "outputs": [],
   "source": [
    "prob=clf_dtreegrid.predict_proba(X_test)\n",
    "prob = prob[:,1]"
   ]
  },
  {
   "cell_type": "code",
   "execution_count": 81,
   "metadata": {
    "colab": {
     "base_uri": "https://localhost:8080/",
     "height": 513
    },
    "colab_type": "code",
    "id": "hEBXlZb2yPmg",
    "outputId": "b8fc1ff0-1f8f-4c9c-b7ce-6e3edc40f3f1"
   },
   "outputs": [
    {
     "data": {
      "image/png": "[encoded data removed]",
      "text/plain": [
       "<Figure size 720x576 with 1 Axes>"
      ]
     },
     "metadata": {
      "tags": []
     },
     "output_type": "display_data"
    }
   ],
   "source": [
    "fpr,tpr,_ = roc_curve(y_test, prob)\n",
    "roc_auc = auc(fpr, tpr)\n",
    "plt.figure(figsize=(10,8))\n",
    "plt.title('Receiver Operating Characteristic')\n",
    "sns.lineplot(fpr, tpr, label = 'AUC = %0.2f' % roc_auc)\n",
    "plt.legend(loc = 'lower right')\n",
    "plt.plot([0, 1], [0, 1],'r--')\n",
    "plt.ylabel('True Positive Rate')\n",
    "plt.xlabel('False Positive Rate')\n",
    "plt.show()"
   ]
  },
  {
   "cell_type": "code",
   "execution_count": 83,
   "metadata": {
    "colab": {
     "base_uri": "https://localhost:8080/",
     "height": 54
    },
    "colab_type": "code",
    "id": "eMVhqFvmy2Ls",
    "outputId": "3c8b3ab4-00ac-4000-bbb2-36978ce88dc0"
   },
   "outputs": [
    {
     "name": "stdout",
     "output_type": "stream",
     "text": [
      "0.8524207660898309 {'classifier__criterion': 'entropy', 'classifier__max_depth': None, 'classifier__max_leaf_nodes': 20, 'classifier__min_samples_leaf': 1, 'classifier__min_samples_split': 2}\n"
     ]
    }
   ],
   "source": [
    "best_grid_model = clf_dtreegrid.best_estimator_\n",
    "print (clf_dtreegrid.best_score_, clf_dtreegrid.best_params_) "
   ]
  },
  {
   "cell_type": "code",
   "execution_count": 0,
   "metadata": {
    "colab": {},
    "colab_type": "code",
    "id": "aM9gWCqHzRDS"
   },
   "outputs": [],
   "source": [
    "orgtest_predict=best_grid_model.predict(test_data)"
   ]
  },
  {
   "cell_type": "code",
   "execution_count": 82,
   "metadata": {
    "colab": {
     "base_uri": "https://localhost:8080/",
     "height": 170
    },
    "colab_type": "code",
    "id": "v3QcavLNyqa-",
    "outputId": "64b4b58b-f302-438e-dae2-b8cca2612140"
   },
   "outputs": [
    {
     "name": "stdout",
     "output_type": "stream",
     "text": [
      "              precision    recall  f1-score   support\n",
      "\n",
      "           0       0.86      0.98      0.92      4108\n",
      "           1       0.82      0.38      0.52      1035\n",
      "\n",
      "    accuracy                           0.86      5143\n",
      "   macro avg       0.84      0.68      0.72      5143\n",
      "weighted avg       0.85      0.86      0.84      5143\n",
      "\n"
     ]
    }
   ],
   "source": [
    "print(classification_report(y_train,train_preddtr))"
   ]
  },
  {
   "cell_type": "code",
   "execution_count": 0,
   "metadata": {
    "colab": {},
    "colab_type": "code",
    "id": "__QHfO50wYzL"
   },
   "outputs": [],
   "source": [
    "#set the output as a dataframe and convert to csv file named submission.csv\n",
    "output = pd.DataFrame({ 'CustomerId' : id_value, 'Churn': orgtest_predict })\n",
    "output.to_csv('submissiondtg.csv', index=False)"
   ]
  },
  {
   "cell_type": "markdown",
   "metadata": {
    "colab_type": "text",
    "id": "mGMErD2Varjd"
   },
   "source": [
    "RandomForest Classifier"
   ]
  },
  {
   "cell_type": "code",
   "execution_count": 0,
   "metadata": {
    "colab": {},
    "colab_type": "code",
    "id": "BWQ21ixM3UuE"
   },
   "outputs": [],
   "source": [
    "from sklearn.ensemble import RandomForestClassifier"
   ]
  },
  {
   "cell_type": "code",
   "execution_count": 90,
   "metadata": {
    "colab": {
     "base_uri": "https://localhost:8080/",
     "height": 51
    },
    "colab_type": "code",
    "id": "fxx9bb8u0Rlk",
    "outputId": "e7792e99-1c18-46d4-aa41-385ee5903fd1"
   },
   "outputs": [
    {
     "name": "stdout",
     "output_type": "stream",
     "text": [
      "CPU times: user 1min 17s, sys: 156 ms, total: 1min 17s\n",
      "Wall time: 1min 18s\n"
     ]
    }
   ],
   "source": [
    "%%time\n",
    "clf_rfcgrid = Pipeline(steps=[('preprocessor', preprocessor),\n",
    "                      ('classifier', RandomForestClassifier())])\n",
    "rfc_param_grid = {\"classifier__n_estimators\" : [9, 18, 27, 36, 45, 54, 63,100],\n",
    "                  \"classifier__max_depth\" : [2,3,5,7,10],\n",
    "                  \"classifier__min_samples_leaf\" : [2, 4]}\n",
    "\n",
    "rfc_grid = GridSearchCV(clf_rfcgrid, param_grid=rfc_param_grid, cv=5)\n",
    "rfc_grid.fit(X_train,y_train)"
   ]
  },
  {
   "cell_type": "code",
   "execution_count": 0,
   "metadata": {
    "colab": {},
    "colab_type": "code",
    "id": "UAclnqwQ3RkL"
   },
   "outputs": [],
   "source": [
    "train_predrfc = rfc_grid.predict(X_train)\n",
    "test_predrfc = rfc_grid.predict(X_test)"
   ]
  },
  {
   "cell_type": "code",
   "execution_count": 92,
   "metadata": {
    "colab": {
     "base_uri": "https://localhost:8080/",
     "height": 170
    },
    "colab_type": "code",
    "id": "DEkYeB8N38V4",
    "outputId": "54685fa8-115b-4a4b-bbaa-fb05fb41a6db"
   },
   "outputs": [
    {
     "name": "stdout",
     "output_type": "stream",
     "text": [
      "              precision    recall  f1-score   support\n",
      "\n",
      "           0       0.86      0.97      0.91      1760\n",
      "           1       0.76      0.35      0.48       445\n",
      "\n",
      "    accuracy                           0.85      2205\n",
      "   macro avg       0.81      0.66      0.70      2205\n",
      "weighted avg       0.84      0.85      0.82      2205\n",
      "\n"
     ]
    }
   ],
   "source": [
    "print(classification_report(y_test,test_predrfc))"
   ]
  },
  {
   "cell_type": "code",
   "execution_count": 93,
   "metadata": {
    "colab": {
     "base_uri": "https://localhost:8080/",
     "height": 170
    },
    "colab_type": "code",
    "id": "jw09i-XN4FJD",
    "outputId": "492c5873-1245-4721-f34d-4ddad958346e"
   },
   "outputs": [
    {
     "name": "stdout",
     "output_type": "stream",
     "text": [
      "              precision    recall  f1-score   support\n",
      "\n",
      "           0       0.88      1.00      0.94      4108\n",
      "           1       0.96      0.49      0.65      1035\n",
      "\n",
      "    accuracy                           0.89      5143\n",
      "   macro avg       0.92      0.74      0.79      5143\n",
      "weighted avg       0.90      0.89      0.88      5143\n",
      "\n"
     ]
    }
   ],
   "source": [
    "print(classification_report(y_train,train_predrfc))"
   ]
  },
  {
   "cell_type": "code",
   "execution_count": 0,
   "metadata": {
    "colab": {},
    "colab_type": "code",
    "id": "9KVuM1PG4M-f"
   },
   "outputs": [],
   "source": [
    "orgtest_predict1=rfc_grid.predict(test_data)"
   ]
  },
  {
   "cell_type": "code",
   "execution_count": 0,
   "metadata": {
    "colab": {},
    "colab_type": "code",
    "id": "x1VrzLGQ5D6L"
   },
   "outputs": [],
   "source": [
    "#set the output as a dataframe and convert to csv file named submission.csv\n",
    "output = pd.DataFrame({ 'CustomerId' : id_value, 'Churn': orgtest_predict1 })\n",
    "output.to_csv('submissionrfc.csv', index=False)"
   ]
  },
  {
   "cell_type": "code",
   "execution_count": 0,
   "metadata": {
    "colab": {},
    "colab_type": "code",
    "id": "a8TmISBf5oTL"
   },
   "outputs": [],
   "source": [
    "from sklearn.tree import DecisionTreeClassifier\n",
    "from sklearn.ensemble import GradientBoostingClassifier\n",
    "from sklearn.ensemble import AdaBoostClassifier\n",
    "\n",
    "from xgboost import XGBClassifier\n"
   ]
  },
  {
   "cell_type": "markdown",
   "metadata": {
    "colab_type": "text",
    "id": "JL2JymyQa3--"
   },
   "source": [
    "XGBoost"
   ]
  },
  {
   "cell_type": "code",
   "execution_count": 98,
   "metadata": {
    "colab": {
     "base_uri": "https://localhost:8080/",
     "height": 51
    },
    "colab_type": "code",
    "id": "R8_QxoN85orx",
    "outputId": "f131807f-71ee-4ea2-cf21-a9514b0813d9"
   },
   "outputs": [
    {
     "name": "stdout",
     "output_type": "stream",
     "text": [
      "CPU times: user 1min 29s, sys: 555 ms, total: 1min 29s\n",
      "Wall time: 1min 30s\n"
     ]
    }
   ],
   "source": [
    "%%time\n",
    "xgb = Pipeline(steps=[('preprocessor', preprocessor),\n",
    "                      ('classifier', XGBClassifier())])\n",
    "clf_param_grid = {'classifier__colsample_bytree': np.linspace(0.3, 0.9, 2),\n",
    "                  'classifier__n_estimators':[300],\n",
    "                  'classifier__max_depth': [6,8,10, 15]}\n",
    "clf_xgb = GridSearchCV(xgb, param_grid=clf_param_grid, cv=5)                 \n",
    "\n",
    "clf_xgb.fit(X_train,y_train)"
   ]
  },
  {
   "cell_type": "code",
   "execution_count": 0,
   "metadata": {
    "colab": {},
    "colab_type": "code",
    "id": "iWjBADnu6Ta5"
   },
   "outputs": [],
   "source": [
    "train_predxgb = clf_xgb.predict(X_train)\n",
    "test_predxgb = clf_xgb.predict(X_test)"
   ]
  },
  {
   "cell_type": "code",
   "execution_count": 100,
   "metadata": {
    "colab": {
     "base_uri": "https://localhost:8080/",
     "height": 170
    },
    "colab_type": "code",
    "id": "brhox5CT64J6",
    "outputId": "9ee12042-fe4a-4da5-e179-06bbf8814255"
   },
   "outputs": [
    {
     "name": "stdout",
     "output_type": "stream",
     "text": [
      "              precision    recall  f1-score   support\n",
      "\n",
      "           0       0.87      0.96      0.91      1760\n",
      "           1       0.72      0.44      0.55       445\n",
      "\n",
      "    accuracy                           0.85      2205\n",
      "   macro avg       0.80      0.70      0.73      2205\n",
      "weighted avg       0.84      0.85      0.84      2205\n",
      "\n"
     ]
    }
   ],
   "source": [
    "print(classification_report(y_test,test_predxgb))"
   ]
  },
  {
   "cell_type": "code",
   "execution_count": 0,
   "metadata": {
    "colab": {},
    "colab_type": "code",
    "id": "vrFmhbqxbNjI"
   },
   "outputs": [],
   "source": [
    "prob=clf_xgb.predict_proba(X_test)\n",
    "prob = prob[:,1]"
   ]
  },
  {
   "cell_type": "code",
   "execution_count": 140,
   "metadata": {
    "colab": {
     "base_uri": "https://localhost:8080/",
     "height": 513
    },
    "colab_type": "code",
    "id": "zkP-bcSDbcCu",
    "outputId": "290a0684-225c-4ad6-e0f5-0eb90e1b8b3e"
   },
   "outputs": [
    {
     "data": {
      "image/png": "[encoded data removed]",
      "text/plain": [
       "<Figure size 720x576 with 1 Axes>"
      ]
     },
     "metadata": {
      "tags": []
     },
     "output_type": "display_data"
    }
   ],
   "source": [
    "fpr,tpr,_ = roc_curve(y_test, prob)\n",
    "roc_auc = auc(fpr, tpr)\n",
    "plt.figure(figsize=(10,8))\n",
    "plt.title('Receiver Operating Characteristic')\n",
    "sns.lineplot(fpr, tpr, label = 'AUC = %0.2f' % roc_auc)\n",
    "plt.legend(loc = 'lower right')\n",
    "plt.plot([0, 1], [0, 1],'r--')\n",
    "plt.ylabel('True Positive Rate')\n",
    "plt.xlabel('False Positive Rate')\n",
    "plt.show()"
   ]
  },
  {
   "cell_type": "code",
   "execution_count": 101,
   "metadata": {
    "colab": {
     "base_uri": "https://localhost:8080/",
     "height": 170
    },
    "colab_type": "code",
    "id": "PJVqIJHL6_6j",
    "outputId": "8d8083d3-7411-4adb-cced-711015c8000f"
   },
   "outputs": [
    {
     "name": "stdout",
     "output_type": "stream",
     "text": [
      "              precision    recall  f1-score   support\n",
      "\n",
      "           0       0.95      1.00      0.97      4108\n",
      "           1       0.98      0.78      0.87      1035\n",
      "\n",
      "    accuracy                           0.95      5143\n",
      "   macro avg       0.97      0.89      0.92      5143\n",
      "weighted avg       0.95      0.95      0.95      5143\n",
      "\n"
     ]
    }
   ],
   "source": [
    "print(classification_report(y_train,train_predxgb))"
   ]
  },
  {
   "cell_type": "code",
   "execution_count": 0,
   "metadata": {
    "colab": {},
    "colab_type": "code",
    "id": "j29BoFS87HS5"
   },
   "outputs": [],
   "source": [
    "orgtest_predict2=clf_xgb.predict(test_data)"
   ]
  },
  {
   "cell_type": "code",
   "execution_count": 0,
   "metadata": {
    "colab": {},
    "colab_type": "code",
    "id": "4hUivQbT7Xes"
   },
   "outputs": [],
   "source": [
    "output = pd.DataFrame({ 'CustomerId' : id_value, 'Churn': orgtest_predict2 })\n",
    "output.to_csv('submissionxgb.csv', index=False)"
   ]
  },
  {
   "cell_type": "markdown",
   "metadata": {
    "colab_type": "text",
    "id": "sYLlHxBigWgu"
   },
   "source": [
    "Gradient Boosting"
   ]
  },
  {
   "cell_type": "code",
   "execution_count": 105,
   "metadata": {
    "colab": {
     "base_uri": "https://localhost:8080/",
     "height": 51
    },
    "colab_type": "code",
    "id": "M5QlNfvE7heX",
    "outputId": "9bb56dc9-dddd-46e8-f50b-91db2a9375c2"
   },
   "outputs": [
    {
     "name": "stdout",
     "output_type": "stream",
     "text": [
      "CPU times: user 1min 49s, sys: 50.9 ms, total: 1min 49s\n",
      "Wall time: 1min 49s\n"
     ]
    }
   ],
   "source": [
    "%%time\n",
    "GBC = Pipeline(steps=[('preprocessor', preprocessor),\n",
    "                      ('classifier', GradientBoostingClassifier())])\n",
    "clf_param_grid = {\"classifier__n_estimators\" : [100,150],\n",
    "                  \"classifier__max_depth\" : [None,5,6],\n",
    "                  \"classifier__learning_rate\" : [0.1,0.3, 0.5,0.6]}\n",
    "clf_randomgrid = RandomizedSearchCV(GBC, param_distributions=clf_param_grid, cv=5)                 \n",
    "\n",
    "clf_randomgrid.fit(X_train,y_train)"
   ]
  },
  {
   "cell_type": "code",
   "execution_count": 0,
   "metadata": {
    "colab": {},
    "colab_type": "code",
    "id": "kc6pj2Wp-NLP"
   },
   "outputs": [],
   "source": [
    "train_predgb = clf_randomgrid.predict(X_train)\n",
    "test_predgb = clf_randomgrid.predict(X_test)"
   ]
  },
  {
   "cell_type": "code",
   "execution_count": 107,
   "metadata": {
    "colab": {
     "base_uri": "https://localhost:8080/",
     "height": 170
    },
    "colab_type": "code",
    "id": "23e7Cbmc9VsG",
    "outputId": "e325954b-9230-43f5-d2dd-a00093232716"
   },
   "outputs": [
    {
     "name": "stdout",
     "output_type": "stream",
     "text": [
      "              precision    recall  f1-score   support\n",
      "\n",
      "           0       0.88      0.96      0.91      1760\n",
      "           1       0.73      0.47      0.57       445\n",
      "\n",
      "    accuracy                           0.86      2205\n",
      "   macro avg       0.80      0.71      0.74      2205\n",
      "weighted avg       0.85      0.86      0.84      2205\n",
      "\n"
     ]
    }
   ],
   "source": [
    "print(classification_report(y_test,test_predgb))"
   ]
  },
  {
   "cell_type": "code",
   "execution_count": 108,
   "metadata": {
    "colab": {
     "base_uri": "https://localhost:8080/",
     "height": 170
    },
    "colab_type": "code",
    "id": "80dV7tgM-lTt",
    "outputId": "47c6bb37-a951-4a72-943d-374c34ad6a94"
   },
   "outputs": [
    {
     "name": "stdout",
     "output_type": "stream",
     "text": [
      "              precision    recall  f1-score   support\n",
      "\n",
      "           0       0.91      0.99      0.95      4108\n",
      "           1       0.93      0.61      0.74      1035\n",
      "\n",
      "    accuracy                           0.91      5143\n",
      "   macro avg       0.92      0.80      0.84      5143\n",
      "weighted avg       0.91      0.91      0.91      5143\n",
      "\n"
     ]
    }
   ],
   "source": [
    "print(classification_report(y_train,train_predgb))"
   ]
  },
  {
   "cell_type": "code",
   "execution_count": 109,
   "metadata": {
    "colab": {
     "base_uri": "https://localhost:8080/",
     "height": 34
    },
    "colab_type": "code",
    "id": "8_twjaq--sak",
    "outputId": "7c7c56db-e632-4c46-f1d1-886fb4ad4e9c"
   },
   "outputs": [
    {
     "name": "stdout",
     "output_type": "stream",
     "text": [
      "0.8553373517402294 {'classifier__n_estimators': 100, 'classifier__max_depth': 5, 'classifier__learning_rate': 0.1}\n"
     ]
    }
   ],
   "source": [
    "best_grid_model1 = clf_randomgrid.best_estimator_\n",
    "print (clf_randomgrid.best_score_, clf_randomgrid.best_params_) "
   ]
  },
  {
   "cell_type": "code",
   "execution_count": 0,
   "metadata": {
    "colab": {},
    "colab_type": "code",
    "id": "PQ9lspVk_JD-"
   },
   "outputs": [],
   "source": [
    "test_predgb1 = best_grid_model1.predict(X_test)"
   ]
  },
  {
   "cell_type": "code",
   "execution_count": 111,
   "metadata": {
    "colab": {
     "base_uri": "https://localhost:8080/",
     "height": 170
    },
    "colab_type": "code",
    "id": "9Xa883rR_gxX",
    "outputId": "e34d601e-7862-4783-ee07-7be66dcdb2e1"
   },
   "outputs": [
    {
     "name": "stdout",
     "output_type": "stream",
     "text": [
      "              precision    recall  f1-score   support\n",
      "\n",
      "           0       0.88      0.96      0.91      1760\n",
      "           1       0.73      0.47      0.57       445\n",
      "\n",
      "    accuracy                           0.86      2205\n",
      "   macro avg       0.80      0.71      0.74      2205\n",
      "weighted avg       0.85      0.86      0.84      2205\n",
      "\n"
     ]
    }
   ],
   "source": [
    "print(classification_report(y_test,test_predgb1))"
   ]
  },
  {
   "cell_type": "code",
   "execution_count": 0,
   "metadata": {
    "colab": {},
    "colab_type": "code",
    "id": "IsujvoSq_kqO"
   },
   "outputs": [],
   "source": [
    "orgtest_predict3=best_grid_model1.predict(test_data)"
   ]
  },
  {
   "cell_type": "code",
   "execution_count": 0,
   "metadata": {
    "colab": {},
    "colab_type": "code",
    "id": "E-v8_C1W_v4K"
   },
   "outputs": [],
   "source": [
    "output = pd.DataFrame({ 'CustomerId' : id_value, 'Churn': orgtest_predict3 })\n",
    "output.to_csv('submissiongb.csv', index=False)"
   ]
  },
  {
   "cell_type": "markdown",
   "metadata": {
    "colab_type": "text",
    "id": "SLp9Tvsxgd-p"
   },
   "source": [
    "AdaBoost Model"
   ]
  },
  {
   "cell_type": "code",
   "execution_count": 114,
   "metadata": {
    "colab": {
     "base_uri": "https://localhost:8080/",
     "height": 51
    },
    "colab_type": "code",
    "id": "TrIt2WJT_5qh",
    "outputId": "fd73d56d-abe8-40b1-b2c6-1c7d5dd31ac5"
   },
   "outputs": [
    {
     "name": "stdout",
     "output_type": "stream",
     "text": [
      "CPU times: user 37.1 s, sys: 163 ms, total: 37.2 s\n",
      "Wall time: 37.3 s\n"
     ]
    }
   ],
   "source": [
    "%%time\n",
    "Adaboost = Pipeline(steps=[('preprocessor', preprocessor),\n",
    "                      ('classifier', AdaBoostClassifier())])\n",
    "clf_param_grid = { \n",
    "                  \"classifier__n_estimators\" : [100,150,200],\n",
    "                  \"classifier__learning_rate\" : [0.1,0.5,0.9]}\n",
    "clf_gridada = GridSearchCV(Adaboost, param_grid=clf_param_grid, cv=5)                 \n",
    "\n",
    "clf_gridada.fit(X_train,y_train)"
   ]
  },
  {
   "cell_type": "code",
   "execution_count": 0,
   "metadata": {
    "colab": {},
    "colab_type": "code",
    "id": "O8j08908AfNd"
   },
   "outputs": [],
   "source": [
    "train_predada = clf_gridada.predict(X_train)\n",
    "test_predada = clf_gridada.predict(X_test)"
   ]
  },
  {
   "cell_type": "code",
   "execution_count": 117,
   "metadata": {
    "colab": {
     "base_uri": "https://localhost:8080/",
     "height": 170
    },
    "colab_type": "code",
    "id": "nqDWCNxaCX3g",
    "outputId": "693fccb6-1706-4c73-ce15-74595a3e16f9"
   },
   "outputs": [
    {
     "name": "stdout",
     "output_type": "stream",
     "text": [
      "              precision    recall  f1-score   support\n",
      "\n",
      "           0       0.88      0.96      0.91      1760\n",
      "           1       0.73      0.46      0.57       445\n",
      "\n",
      "    accuracy                           0.86      2205\n",
      "   macro avg       0.80      0.71      0.74      2205\n",
      "weighted avg       0.85      0.86      0.84      2205\n",
      "\n"
     ]
    }
   ],
   "source": [
    "print(classification_report(y_test,test_predada))"
   ]
  },
  {
   "cell_type": "code",
   "execution_count": 118,
   "metadata": {
    "colab": {
     "base_uri": "https://localhost:8080/",
     "height": 170
    },
    "colab_type": "code",
    "id": "d2el_6mSCjui",
    "outputId": "4315da60-e704-427f-9d8e-17dccc014769"
   },
   "outputs": [
    {
     "name": "stdout",
     "output_type": "stream",
     "text": [
      "              precision    recall  f1-score   support\n",
      "\n",
      "           0       0.87      0.96      0.92      4108\n",
      "           1       0.76      0.44      0.56      1035\n",
      "\n",
      "    accuracy                           0.86      5143\n",
      "   macro avg       0.81      0.70      0.74      5143\n",
      "weighted avg       0.85      0.86      0.84      5143\n",
      "\n"
     ]
    }
   ],
   "source": [
    "print(classification_report(y_train,train_predada))"
   ]
  },
  {
   "cell_type": "code",
   "execution_count": 0,
   "metadata": {
    "colab": {},
    "colab_type": "code",
    "id": "1UvcCqdACs5d"
   },
   "outputs": [],
   "source": [
    "orgtest_predict4=clf_gridada.predict(test_data)"
   ]
  },
  {
   "cell_type": "code",
   "execution_count": 0,
   "metadata": {
    "colab": {},
    "colab_type": "code",
    "id": "GUAC0k2SEjzg"
   },
   "outputs": [],
   "source": [
    "output = pd.DataFrame({ 'CustomerId' : id_value, 'Churn': orgtest_predict4 })\n",
    "output.to_csv('submissionada.csv', index=False)"
   ]
  },
  {
   "cell_type": "markdown",
   "metadata": {
    "colab_type": "text",
    "id": "XX4NPBCGgklL"
   },
   "source": [
    "Tuning Parameters for XGBoost"
   ]
  },
  {
   "cell_type": "code",
   "execution_count": 128,
   "metadata": {
    "colab": {
     "base_uri": "https://localhost:8080/",
     "height": 51
    },
    "colab_type": "code",
    "id": "-9smoSqjEsli",
    "outputId": "218b2bbd-834a-4a1d-be04-9e3f7a4a4496"
   },
   "outputs": [
    {
     "name": "stdout",
     "output_type": "stream",
     "text": [
      "CPU times: user 1min 11s, sys: 313 ms, total: 1min 11s\n",
      "Wall time: 1min 11s\n"
     ]
    }
   ],
   "source": [
    "%%time\n",
    "xgb1 = Pipeline(steps=[('preprocessor', preprocessor),\n",
    "                      ('classifier', XGBClassifier())])\n",
    "clf_param_grid = {\n",
    "                  'classifier__n_estimators':[100,150,300],\n",
    "                  \"classifier__learning_rate\"    : [0.05, 0.10, 0.15, 0.20, 0.25, 0.30 ],\n",
    "                  \"classifier__gamma\"            : [ 0.0, 0.1, 0.2 , 0.3, 0.4 ],\n",
    "                  \"classifier__colsample_bytree\" : [ 0.3, 0.4, 0.5,0.7],\n",
    "                  'classifier__max_depth': [4,6,8,10, 15]}\n",
    "clf_xgb1 = RandomizedSearchCV(xgb1, param_distributions=clf_param_grid, cv=5)                 \n",
    "\n",
    "clf_xgb1.fit(X_train,y_train)"
   ]
  },
  {
   "cell_type": "code",
   "execution_count": 0,
   "metadata": {
    "colab": {},
    "colab_type": "code",
    "id": "LCe53s96HOcy"
   },
   "outputs": [],
   "source": [
    "train_predxgb1 = clf_xgb1.predict(X_train)\n",
    "test_predxgb1 = clf_xgb1.predict(X_test)"
   ]
  },
  {
   "cell_type": "code",
   "execution_count": 130,
   "metadata": {
    "colab": {
     "base_uri": "https://localhost:8080/",
     "height": 170
    },
    "colab_type": "code",
    "id": "B8avs43lRLFw",
    "outputId": "cd87d099-bbc9-404b-c27c-38c6d3e3d268"
   },
   "outputs": [
    {
     "name": "stdout",
     "output_type": "stream",
     "text": [
      "              precision    recall  f1-score   support\n",
      "\n",
      "           0       0.87      0.95      0.91      1760\n",
      "           1       0.70      0.44      0.54       445\n",
      "\n",
      "    accuracy                           0.85      2205\n",
      "   macro avg       0.79      0.70      0.73      2205\n",
      "weighted avg       0.84      0.85      0.84      2205\n",
      "\n"
     ]
    }
   ],
   "source": [
    "print(classification_report(y_test,test_predxgb1))"
   ]
  },
  {
   "cell_type": "code",
   "execution_count": 131,
   "metadata": {
    "colab": {
     "base_uri": "https://localhost:8080/",
     "height": 170
    },
    "colab_type": "code",
    "id": "8coWwJKQRQMc",
    "outputId": "658c397d-8131-4c94-d55d-726303e510cf"
   },
   "outputs": [
    {
     "name": "stdout",
     "output_type": "stream",
     "text": [
      "              precision    recall  f1-score   support\n",
      "\n",
      "           0       1.00      1.00      1.00      4108\n",
      "           1       1.00      1.00      1.00      1035\n",
      "\n",
      "    accuracy                           1.00      5143\n",
      "   macro avg       1.00      1.00      1.00      5143\n",
      "weighted avg       1.00      1.00      1.00      5143\n",
      "\n"
     ]
    }
   ],
   "source": [
    "print(classification_report(y_train,train_predxgb1))"
   ]
  },
  {
   "cell_type": "code",
   "execution_count": 132,
   "metadata": {
    "colab": {
     "base_uri": "https://localhost:8080/",
     "height": 54
    },
    "colab_type": "code",
    "id": "hKLhM_r0RXLp",
    "outputId": "7549d3bc-0f16-439c-f4bd-f799a8a0a1b1"
   },
   "outputs": [
    {
     "name": "stdout",
     "output_type": "stream",
     "text": [
      "0.8586428154773479 {'classifier__n_estimators': 300, 'classifier__max_depth': 15, 'classifier__learning_rate': 0.05, 'classifier__gamma': 0.4, 'classifier__colsample_bytree': 0.7}\n"
     ]
    }
   ],
   "source": [
    "best_grid_model2 = clf_xgb1.best_estimator_\n",
    "print (clf_xgb1.best_score_, clf_xgb1.best_params_) "
   ]
  },
  {
   "cell_type": "code",
   "execution_count": 0,
   "metadata": {
    "colab": {},
    "colab_type": "code",
    "id": "DlLZ5np_STN1"
   },
   "outputs": [],
   "source": [
    "test_predxgb2 = best_grid_model2.predict(X_test)"
   ]
  },
  {
   "cell_type": "code",
   "execution_count": 134,
   "metadata": {
    "colab": {
     "base_uri": "https://localhost:8080/",
     "height": 170
    },
    "colab_type": "code",
    "id": "Mo4vyfLcSdja",
    "outputId": "57ab6386-049f-402a-b567-24feff92589e"
   },
   "outputs": [
    {
     "name": "stdout",
     "output_type": "stream",
     "text": [
      "              precision    recall  f1-score   support\n",
      "\n",
      "           0       0.87      0.95      0.91      1760\n",
      "           1       0.70      0.44      0.54       445\n",
      "\n",
      "    accuracy                           0.85      2205\n",
      "   macro avg       0.79      0.70      0.73      2205\n",
      "weighted avg       0.84      0.85      0.84      2205\n",
      "\n"
     ]
    }
   ],
   "source": [
    "print(classification_report(y_test,test_predxgb2))"
   ]
  },
  {
   "cell_type": "code",
   "execution_count": 0,
   "metadata": {
    "colab": {},
    "colab_type": "code",
    "id": "DMBUIsVfSjeR"
   },
   "outputs": [],
   "source": [
    "orgtest_predict5 = best_grid_model2.predict(test_data)"
   ]
  },
  {
   "cell_type": "code",
   "execution_count": 0,
   "metadata": {
    "colab": {},
    "colab_type": "code",
    "id": "lpaVF_f_XbPs"
   },
   "outputs": [],
   "source": [
    "output = pd.DataFrame({ 'CustomerId' : id_value, 'Churn': orgtest_predict5 })\n",
    "output.to_csv('submissionxgb2.csv', index=False)"
   ]
  }
 ],
 "metadata": {
  "accelerator": "GPU",
  "colab": {
   "collapsed_sections": [],
   "name": "MITH CASE.ipynb",
   "provenance": []
  },
  "kernelspec": {
   "display_name": "Python 3",
   "language": "python",
   "name": "python3"
  },
  "language_info": {
   "codemirror_mode": {
    "name": "ipython",
    "version": 3
   },
   "file_extension": ".py",
   "mimetype": "text/x-python",
   "name": "python",
   "nbconvert_exporter": "python",
   "pygments_lexer": "ipython3",
   "version": "3.7.1"
  }
 },
 "nbformat": 4,
 "nbformat_minor": 1
}
